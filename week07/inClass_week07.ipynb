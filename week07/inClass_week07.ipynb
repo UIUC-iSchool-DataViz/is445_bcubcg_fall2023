{
 "cells": [
  {
   "cell_type": "markdown",
   "id": "respective-store",
   "metadata": {},
   "source": [
    "# In Class Notebook, Week 07"
   ]
  },
  {
   "cell_type": "markdown",
   "id": "2a597611",
   "metadata": {},
   "source": [
    "You can always find here: https://github.com/UIUC-iSchool-DataViz/is445_bcubcg_fall2023/blob/master/week07/inClass_week07.ipynb  \n",
    "\n",
    "Or into the nbviewer interface for a plain-text rendering:\n",
    "\n",
    "https://kokes.github.io/nbviewer.js/viewer.html"
   ]
  },
  {
   "cell_type": "markdown",
   "id": "4e869f42",
   "metadata": {},
   "source": [
    "## Maps in bqplot"
   ]
  },
  {
   "cell_type": "code",
   "execution_count": 1,
   "id": "a39e641d",
   "metadata": {},
   "outputs": [],
   "source": [
    "import bqplot"
   ]
  },
  {
   "cell_type": "code",
   "execution_count": null,
   "id": "7ac0e5bf",
   "metadata": {},
   "outputs": [],
   "source": [
    "# 1. data\n",
    "shape_data = bqplot.topo_load('map_data/WorldMap.json')\n",
    "\n",
    "# 2. scales/axis\n",
    "sc_geo = bqplot.Mercator() # not great!\n",
    "\n",
    "# 3. marks\n",
    "shape_map = bqplot.Map(map_data=shape_data, scales={'projection':sc_geo})\n",
    "\n",
    "# put it together as a figure\n",
    "fig = bqplot.Figure(marks=[shape_map], \n",
    "                   fig_margin={'top':0,'bottom':0,'left':0,'right':0})\n",
    "fig"
   ]
  },
  {
   "cell_type": "code",
   "execution_count": null,
   "id": "6a672256",
   "metadata": {},
   "outputs": [],
   "source": [
    "# 1. data\n",
    "shape_data = bqplot.topo_load('map_data/USStatesMap.json')\n",
    "\n",
    "# 2. scales/axis\n",
    "sc_geo = bqplot.Mercator() # not great!\n",
    "\n",
    "# 3. marks\n",
    "shape_map = bqplot.Map(map_data=shape_data, scales={'projection':sc_geo})\n",
    "\n",
    "# put it together as a figure\n",
    "fig = bqplot.Figure(marks=[shape_map], \n",
    "                   fig_margin={'top':0,'bottom':0,'left':0,'right':0})\n",
    "fig"
   ]
  },
  {
   "cell_type": "code",
   "execution_count": null,
   "id": "308d9b74",
   "metadata": {},
   "outputs": [],
   "source": []
  }
 ],
 "metadata": {
  "kernelspec": {
   "display_name": "Python 3 (ipykernel)",
   "language": "python",
   "name": "python3"
  },
  "language_info": {
   "codemirror_mode": {
    "name": "ipython",
    "version": 3
   },
   "file_extension": ".py",
   "mimetype": "text/x-python",
   "name": "python",
   "nbconvert_exporter": "python",
   "pygments_lexer": "ipython3",
   "version": "3.8.17"
  }
 },
 "nbformat": 4,
 "nbformat_minor": 5
}
