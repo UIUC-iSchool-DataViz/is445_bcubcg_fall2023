{
 "cells": [
  {
   "cell_type": "markdown",
   "id": "respective-store",
   "metadata": {},
   "source": [
    "# In Class Notebook, Week 05"
   ]
  },
  {
   "cell_type": "markdown",
   "id": "2a597611",
   "metadata": {},
   "source": [
    "You can click on the GitHub URL of this notebook to access the file in near-real time: https://github.com/UIUC-iSchool-DataViz/is445_bcubcg_fall2023/blob/master/week05/inClass_week05.ipynb \n",
    "\n",
    "Or you can copy-paste into the nbviewer interface for a plain-text rendering:\n",
    "\n",
    "https://kokes.github.io/nbviewer.js/viewer.html"
   ]
  },
  {
   "cell_type": "code",
   "execution_count": 1,
   "id": "c0a0e450",
   "metadata": {},
   "outputs": [],
   "source": [
    "import ipywidgets"
   ]
  },
  {
   "cell_type": "code",
   "execution_count": 2,
   "id": "7e01dde4",
   "metadata": {},
   "outputs": [
    {
     "data": {
      "application/vnd.jupyter.widget-view+json": {
       "model_id": "1df6ca9629e74f86b44906dafbb2ce17",
       "version_major": 2,
       "version_minor": 0
      },
      "text/plain": [
       "IntSlider(value=0, max=10, orientation='vertical')"
      ]
     },
     "metadata": {},
     "output_type": "display_data"
    }
   ],
   "source": [
    "islider = ipywidgets.IntSlider(min=0,max=10, step=1, orientation='vertical')\n",
    "islider"
   ]
  },
  {
   "cell_type": "code",
   "execution_count": 3,
   "id": "889f2711",
   "metadata": {},
   "outputs": [
    {
     "data": {
      "application/vnd.jupyter.widget-view+json": {
       "model_id": "344c21a1953a459b982132c93eba6efe",
       "version_major": 2,
       "version_minor": 0
      },
      "text/plain": [
       "ColorPicker(value='black')"
      ]
     },
     "metadata": {},
     "output_type": "display_data"
    }
   ],
   "source": [
    "cp = ipywidgets.ColorPicker()\n",
    "cp"
   ]
  },
  {
   "cell_type": "code",
   "execution_count": 4,
   "id": "4f90d2bb",
   "metadata": {},
   "outputs": [
    {
     "data": {
      "text/plain": [
       "<traitlets.traitlets.link at 0x7fe828509340>"
      ]
     },
     "execution_count": 4,
     "metadata": {},
     "output_type": "execute_result"
    }
   ],
   "source": [
    "ipywidgets.link( (cp,'value'), (islider.style, 'handle_color'))"
   ]
  },
  {
   "cell_type": "code",
   "execution_count": 5,
   "id": "a6dab207",
   "metadata": {},
   "outputs": [],
   "source": [
    "class MyObject():\n",
    "    name = 'unnamed'\n",
    "    age = 0"
   ]
  },
  {
   "cell_type": "code",
   "execution_count": 6,
   "id": "886272b5",
   "metadata": {},
   "outputs": [],
   "source": [
    "my_obj = MyObject()"
   ]
  },
  {
   "cell_type": "code",
   "execution_count": 7,
   "id": "dae4f5b2",
   "metadata": {},
   "outputs": [
    {
     "data": {
      "text/plain": [
       "('unnamed', 0)"
      ]
     },
     "execution_count": 7,
     "metadata": {},
     "output_type": "execute_result"
    }
   ],
   "source": [
    "my_obj.name, my_obj.age"
   ]
  },
  {
   "cell_type": "code",
   "execution_count": 8,
   "id": "940dabc8",
   "metadata": {},
   "outputs": [],
   "source": [
    "my_obj.name = 'Bob'\n",
    "my_obj.age = 47"
   ]
  },
  {
   "cell_type": "code",
   "execution_count": 9,
   "id": "ee9fa1a8",
   "metadata": {},
   "outputs": [
    {
     "name": "stdout",
     "output_type": "stream",
     "text": [
      "Hello, my name is Bob and I am 47 years old\n"
     ]
    }
   ],
   "source": [
    "print('Hello, my name is', my_obj.name, 'and I am', my_obj.age, 'years old')"
   ]
  },
  {
   "cell_type": "code",
   "execution_count": 10,
   "id": "4a157efe",
   "metadata": {},
   "outputs": [],
   "source": [
    "my_obj.name = 'Linda'\n",
    "my_obj.age = 45"
   ]
  },
  {
   "cell_type": "code",
   "execution_count": 11,
   "id": "62be7b1a",
   "metadata": {},
   "outputs": [
    {
     "name": "stdout",
     "output_type": "stream",
     "text": [
      "Hello, my name is Linda and I am 45 years old\n"
     ]
    }
   ],
   "source": [
    "print('Hello, my name is', my_obj.name, 'and I am', my_obj.age, 'years old')"
   ]
  },
  {
   "cell_type": "code",
   "execution_count": 12,
   "id": "dffe7a8c",
   "metadata": {},
   "outputs": [],
   "source": [
    "import traitlets"
   ]
  },
  {
   "cell_type": "code",
   "execution_count": 13,
   "id": "3dba9feb",
   "metadata": {},
   "outputs": [],
   "source": [
    "# class MyObject():\n",
    "#     name = 'unnamed'\n",
    "#     age = 0\n",
    "\n",
    "class MyTraitletObject(traitlets.HasTraits):\n",
    "    name = traitlets.Unicode('unnamed') # fancy of saying formatting string\n",
    "    age = traitlets.Int(0) # similar to age = 0, but fancy"
   ]
  },
  {
   "cell_type": "code",
   "execution_count": 14,
   "id": "0fe83864",
   "metadata": {},
   "outputs": [],
   "source": [
    "my_t_obj = MyTraitletObject()\n",
    "my_t_obj.name = 'Bob'\n",
    "my_t_obj.age = 47"
   ]
  },
  {
   "cell_type": "code",
   "execution_count": 15,
   "id": "426952b3",
   "metadata": {},
   "outputs": [
    {
     "data": {
      "text/plain": [
       "('Bob', 47)"
      ]
     },
     "execution_count": 15,
     "metadata": {},
     "output_type": "execute_result"
    }
   ],
   "source": [
    "my_t_obj.name, my_t_obj.age"
   ]
  },
  {
   "cell_type": "code",
   "execution_count": 16,
   "id": "8c4effce",
   "metadata": {},
   "outputs": [
    {
     "name": "stdout",
     "output_type": "stream",
     "text": [
      "Hello, my name is Bob and I am 47 years old\n"
     ]
    }
   ],
   "source": [
    "print('Hello, my name is', my_t_obj.name, 'and I am', my_t_obj.age, 'years old')"
   ]
  },
  {
   "cell_type": "code",
   "execution_count": 17,
   "id": "2ffc1614",
   "metadata": {},
   "outputs": [],
   "source": [
    "def name_changed(change):\n",
    "    print(change)\n",
    "    \n",
    "my_t_obj.observe(name_changed, ['name'])"
   ]
  },
  {
   "cell_type": "code",
   "execution_count": 18,
   "id": "13b88f8f",
   "metadata": {},
   "outputs": [
    {
     "name": "stdout",
     "output_type": "stream",
     "text": [
      "{'name': 'name', 'old': 'Bob', 'new': 'Linda', 'owner': <__main__.MyTraitletObject object at 0x7fe7f80deb20>, 'type': 'change'}\n"
     ]
    }
   ],
   "source": [
    "my_t_obj.name = 'Linda'"
   ]
  },
  {
   "cell_type": "code",
   "execution_count": 19,
   "id": "0e5c2f64",
   "metadata": {},
   "outputs": [],
   "source": [
    "def name_changed2(change):\n",
    "    print('Hello, my name is', change['new'], 'and I am', \n",
    "          change['owner'].age, 'years old')\n",
    "    \n",
    "my_t_obj.observe(name_changed2, ['name'])"
   ]
  },
  {
   "cell_type": "code",
   "execution_count": 20,
   "id": "a9ab61e7",
   "metadata": {},
   "outputs": [
    {
     "name": "stdout",
     "output_type": "stream",
     "text": [
      "{'name': 'name', 'old': 'Linda', 'new': 'Bob', 'owner': <__main__.MyTraitletObject object at 0x7fe7f80deb20>, 'type': 'change'}\n",
      "Hello, my name is Bob and I am 47 years old\n"
     ]
    }
   ],
   "source": [
    "my_t_obj.name = 'Bob'"
   ]
  },
  {
   "cell_type": "code",
   "execution_count": 21,
   "id": "c20ce721",
   "metadata": {},
   "outputs": [],
   "source": [
    "my_t_obj.unobserve(name_changed, ['name'])"
   ]
  },
  {
   "cell_type": "code",
   "execution_count": 22,
   "id": "eb4a312a",
   "metadata": {},
   "outputs": [
    {
     "name": "stdout",
     "output_type": "stream",
     "text": [
      "Hello, my name is Linda and I am 47 years old\n"
     ]
    }
   ],
   "source": [
    "my_t_obj.name = 'Linda'"
   ]
  },
  {
   "cell_type": "code",
   "execution_count": 23,
   "id": "7ea1e93c",
   "metadata": {},
   "outputs": [],
   "source": [
    "def age_changed(change):\n",
    "    print('Hello, my name is', change['owner'].name, 'and I am', \n",
    "         change['new'], 'years old')\n",
    "my_t_obj.observe(age_changed, ['age'])"
   ]
  },
  {
   "cell_type": "code",
   "execution_count": 24,
   "id": "e56922ee",
   "metadata": {},
   "outputs": [
    {
     "name": "stdout",
     "output_type": "stream",
     "text": [
      "Hello, my name is Linda and I am 45 years old\n"
     ]
    }
   ],
   "source": [
    "my_t_obj.age = 45"
   ]
  },
  {
   "cell_type": "code",
   "execution_count": 25,
   "id": "fdbbd713",
   "metadata": {},
   "outputs": [
    {
     "name": "stdout",
     "output_type": "stream",
     "text": [
      "Hello, my name is Louise and I am 45 years old\n"
     ]
    }
   ],
   "source": [
    "my_t_obj.name, my_t_age = 'Louise', 8"
   ]
  },
  {
   "cell_type": "markdown",
   "id": "3948ea61",
   "metadata": {},
   "source": [
    "## Onto bqplot!"
   ]
  },
  {
   "cell_type": "code",
   "execution_count": 1,
   "id": "07857d70",
   "metadata": {},
   "outputs": [],
   "source": [
    "import bqplot\n",
    "import numpy as np"
   ]
  },
  {
   "cell_type": "markdown",
   "id": "7f22e56a",
   "metadata": {},
   "source": [
    "**Step 1: Data**"
   ]
  },
  {
   "cell_type": "code",
   "execution_count": 27,
   "id": "fa3535a8",
   "metadata": {},
   "outputs": [],
   "source": [
    "x = np.arange(100)"
   ]
  },
  {
   "cell_type": "code",
   "execution_count": 28,
   "id": "ab613f18",
   "metadata": {},
   "outputs": [
    {
     "data": {
      "text/plain": [
       "array([ 0,  1,  2,  3,  4,  5,  6,  7,  8,  9, 10, 11, 12, 13, 14, 15, 16,\n",
       "       17, 18, 19, 20, 21, 22, 23, 24, 25, 26, 27, 28, 29, 30, 31, 32, 33,\n",
       "       34, 35, 36, 37, 38, 39, 40, 41, 42, 43, 44, 45, 46, 47, 48, 49, 50,\n",
       "       51, 52, 53, 54, 55, 56, 57, 58, 59, 60, 61, 62, 63, 64, 65, 66, 67,\n",
       "       68, 69, 70, 71, 72, 73, 74, 75, 76, 77, 78, 79, 80, 81, 82, 83, 84,\n",
       "       85, 86, 87, 88, 89, 90, 91, 92, 93, 94, 95, 96, 97, 98, 99])"
      ]
     },
     "execution_count": 28,
     "metadata": {},
     "output_type": "execute_result"
    }
   ],
   "source": [
    "x"
   ]
  },
  {
   "cell_type": "code",
   "execution_count": 29,
   "id": "5d01fa84",
   "metadata": {},
   "outputs": [],
   "source": [
    "y = np.random.random(100)"
   ]
  },
  {
   "cell_type": "code",
   "execution_count": 30,
   "id": "351bae94",
   "metadata": {},
   "outputs": [
    {
     "data": {
      "text/plain": [
       "array([1.62381502e-01, 8.97002548e-01, 2.32082665e-01, 3.27385341e-01,\n",
       "       9.68703600e-01, 7.39343437e-01, 8.71832811e-01, 4.75900007e-01,\n",
       "       8.60471850e-01, 4.13857104e-01, 5.02701892e-01, 1.78266706e-01,\n",
       "       1.36666780e-01, 3.68426910e-01, 7.52099702e-01, 4.60926320e-01,\n",
       "       8.94230925e-01, 4.45056535e-01, 3.37995064e-01, 2.70542989e-01,\n",
       "       2.71781363e-01, 8.47604982e-01, 5.99005770e-01, 5.19918242e-01,\n",
       "       2.55207527e-01, 6.83709803e-01, 7.90210712e-01, 8.32889680e-01,\n",
       "       4.49724777e-02, 4.68057151e-01, 8.88741971e-01, 5.23616689e-01,\n",
       "       8.62514296e-01, 1.14652301e-01, 8.48313912e-01, 7.10712158e-01,\n",
       "       8.65235264e-01, 2.09059134e-01, 4.19479230e-01, 7.35474041e-02,\n",
       "       3.37295409e-01, 3.99625648e-01, 4.65996295e-01, 1.94888287e-01,\n",
       "       6.18194222e-01, 6.99414556e-01, 3.51456830e-01, 6.21899385e-02,\n",
       "       4.96684901e-01, 8.19784357e-01, 3.15276332e-01, 2.85879136e-01,\n",
       "       8.90344097e-01, 2.70922121e-01, 1.58971922e-01, 6.21419696e-01,\n",
       "       1.60030376e-02, 2.84460556e-01, 8.77469528e-01, 2.51337954e-01,\n",
       "       8.13347693e-01, 3.22366103e-01, 1.57366364e-01, 9.42462696e-01,\n",
       "       8.43262394e-01, 6.57607372e-01, 9.05361900e-01, 1.02293397e-01,\n",
       "       8.91076551e-01, 4.91576945e-01, 2.07952813e-01, 2.23904094e-01,\n",
       "       9.46186498e-01, 5.98666708e-01, 7.68179748e-05, 1.75500412e-01,\n",
       "       2.44831990e-01, 4.58442358e-01, 7.94381802e-01, 3.67272814e-02,\n",
       "       6.07004980e-01, 4.67371243e-01, 4.59202394e-01, 7.31175766e-01,\n",
       "       4.36456426e-01, 5.37308125e-01, 6.52533816e-02, 8.77145067e-01,\n",
       "       9.94079802e-01, 2.80373031e-01, 5.54490775e-01, 6.02077439e-01,\n",
       "       6.83824828e-01, 5.96358817e-02, 3.25458224e-01, 1.20691746e-01,\n",
       "       1.46289875e-01, 2.85066471e-01, 7.83468355e-01, 7.46243795e-01])"
      ]
     },
     "execution_count": 30,
     "metadata": {},
     "output_type": "execute_result"
    }
   ],
   "source": [
    "y"
   ]
  },
  {
   "cell_type": "markdown",
   "id": "a7b8245a",
   "metadata": {},
   "source": [
    "**Step 2: Scales**"
   ]
  },
  {
   "cell_type": "code",
   "execution_count": 31,
   "id": "fed27d2d",
   "metadata": {},
   "outputs": [],
   "source": [
    "bqplot.LinearScale?"
   ]
  },
  {
   "cell_type": "code",
   "execution_count": 32,
   "id": "a549501d",
   "metadata": {},
   "outputs": [],
   "source": [
    "x_sc = bqplot.LinearScale()\n",
    "y_sc = bqplot.LinearScale()"
   ]
  },
  {
   "cell_type": "markdown",
   "id": "9cef7f34",
   "metadata": {},
   "source": [
    "**Step 3: Marks**"
   ]
  },
  {
   "cell_type": "code",
   "execution_count": 33,
   "id": "f671e59b",
   "metadata": {},
   "outputs": [],
   "source": [
    "bqplot.Lines?"
   ]
  },
  {
   "cell_type": "code",
   "execution_count": 34,
   "id": "2aa76870",
   "metadata": {},
   "outputs": [],
   "source": [
    "lines = bqplot.Lines(x=x, y=y,\n",
    "                    scales={'x':x_sc, 'y':y_sc})"
   ]
  },
  {
   "cell_type": "markdown",
   "id": "65d6356a",
   "metadata": {},
   "source": [
    "**Step 4 (though sometimes this is step 3!): Axis**"
   ]
  },
  {
   "cell_type": "code",
   "execution_count": 35,
   "id": "e00b58c8",
   "metadata": {},
   "outputs": [],
   "source": [
    "bqplot.Axis?"
   ]
  },
  {
   "cell_type": "code",
   "execution_count": 36,
   "id": "d6d18930",
   "metadata": {},
   "outputs": [],
   "source": [
    "ax_x = bqplot.Axis(scale=x_sc, label='X Value')\n",
    "ax_y = bqplot.Axis(scale=y_sc, label='Y Value', orientation='vertical')"
   ]
  },
  {
   "cell_type": "markdown",
   "id": "10c612e6",
   "metadata": {},
   "source": [
    "**Step 5: Figure (here-ish is where any interactivity would be)**"
   ]
  },
  {
   "cell_type": "code",
   "execution_count": 37,
   "id": "58a6caac",
   "metadata": {},
   "outputs": [],
   "source": [
    "bqplot.Figure?"
   ]
  },
  {
   "cell_type": "code",
   "execution_count": 38,
   "id": "4b389a4e",
   "metadata": {},
   "outputs": [],
   "source": [
    "fig = bqplot.Figure(marks=[lines], axes=[ax_x, ax_y])\n",
    "fig"
   ]
  },
  {
   "cell_type": "code",
   "execution_count": 39,
   "id": "a06e2df4",
   "metadata": {},
   "outputs": [],
   "source": [
    "bqplot.interacts?"
   ]
  },
  {
   "cell_type": "code",
   "execution_count": 40,
   "id": "e53d482e",
   "metadata": {},
   "outputs": [],
   "source": [
    "bqplot.interacts.PanZoom?"
   ]
  },
  {
   "cell_type": "code",
   "execution_count": 41,
   "id": "8f97ddba",
   "metadata": {},
   "outputs": [],
   "source": [
    "pz = bqplot.interacts.PanZoom(scales={'x':[x_sc], 'y':[y_sc]})"
   ]
  },
  {
   "cell_type": "code",
   "execution_count": 42,
   "id": "0c932f3d",
   "metadata": {},
   "outputs": [],
   "source": [
    "fig = bqplot.Figure(marks=[lines], axes=[ax_x, ax_y], interaction = pz)\n",
    "fig"
   ]
  },
  {
   "cell_type": "markdown",
   "id": "b6f4d8f2",
   "metadata": {},
   "source": [
    "### Scatter plot with random data and point selection (brush selection)"
   ]
  },
  {
   "cell_type": "code",
   "execution_count": 2,
   "id": "faed5e61",
   "metadata": {},
   "outputs": [],
   "source": [
    "# 1. Data\n",
    "x = np.random.random(100)\n",
    "y = np.random.random(100)"
   ]
  },
  {
   "cell_type": "code",
   "execution_count": 6,
   "id": "5e450b25",
   "metadata": {},
   "outputs": [],
   "source": [
    "# 2. scales\n",
    "x_sc = bqplot.LinearScale()\n",
    "y_sc = bqplot.LinearScale()"
   ]
  },
  {
   "cell_type": "code",
   "execution_count": 7,
   "id": "8fd8a6ec",
   "metadata": {},
   "outputs": [],
   "source": [
    "# 3. axis\n",
    "x_ax = bqplot.Axis(scale=x_sc, label='X')\n",
    "y_ax = bqplot.Axis(scale=y_sc, label = 'Y', orientation='vertical')"
   ]
  },
  {
   "cell_type": "code",
   "execution_count": 8,
   "id": "b7642ba0",
   "metadata": {},
   "outputs": [],
   "source": [
    "bqplot.Scatter?"
   ]
  },
  {
   "cell_type": "code",
   "execution_count": 9,
   "id": "297ca6e6",
   "metadata": {},
   "outputs": [],
   "source": [
    "# 4. marks (Scatter)\n",
    "scatters = bqplot.Scatter(x=x, y=y, scales={'x':x_sc, 'y':y_sc})"
   ]
  },
  {
   "cell_type": "code",
   "execution_count": 11,
   "id": "c850cd74",
   "metadata": {},
   "outputs": [],
   "source": [
    "# ESC+a for insert above\n",
    "bqplot.interacts.FastIntervalSelector?"
   ]
  },
  {
   "cell_type": "code",
   "execution_count": 12,
   "id": "5272ad0f",
   "metadata": {},
   "outputs": [],
   "source": [
    "# 5. interaction\n",
    "selector = bqplot.interacts.FastIntervalSelector(scale=x_sc, marks = [scatters])"
   ]
  },
  {
   "cell_type": "code",
   "execution_count": 14,
   "id": "4dedc3e1",
   "metadata": {},
   "outputs": [
    {
     "data": {
      "application/vnd.jupyter.widget-view+json": {
       "model_id": "087712a2246747f09ce2e984b8986a32",
       "version_major": 2,
       "version_minor": 0
      },
      "text/plain": [
       "Figure(axes=[Axis(label='X', scale=LinearScale(), side='bottom'), Axis(label='Y', orientation='vertical', scal…"
      ]
     },
     "metadata": {},
     "output_type": "display_data"
    }
   ],
   "source": [
    "fig = bqplot.Figure(marks=[scatters], axes=[x_ax, y_ax], interaction=selector)\n",
    "fig"
   ]
  },
  {
   "cell_type": "code",
   "execution_count": 16,
   "id": "a0d1c852",
   "metadata": {},
   "outputs": [
    {
     "data": {
      "text/plain": [
       "array([-0.0005307 ,  0.20030176])"
      ]
     },
     "execution_count": 16,
     "metadata": {},
     "output_type": "execute_result"
    }
   ],
   "source": [
    "selector.selected"
   ]
  },
  {
   "cell_type": "code",
   "execution_count": 18,
   "id": "5dec46ab",
   "metadata": {},
   "outputs": [],
   "source": [
    "scatters.unselected_style = {'opacity':0.8} # unselected, a little see-through\n",
    "scatters.selected_style = {'fill':'red', 'stroke':'yellow'}"
   ]
  },
  {
   "cell_type": "markdown",
   "id": "91162d2f",
   "metadata": {},
   "source": [
    "## Heatmap in 2D"
   ]
  },
  {
   "cell_type": "code",
   "execution_count": 2,
   "id": "09fb67f5",
   "metadata": {},
   "outputs": [],
   "source": [
    "import bqplot\n",
    "import numpy as np"
   ]
  },
  {
   "cell_type": "code",
   "execution_count": 14,
   "id": "4d76c9e4",
   "metadata": {},
   "outputs": [],
   "source": [
    "# 1. Data\n",
    "data = np.random.random((10,10))"
   ]
  },
  {
   "cell_type": "code",
   "execution_count": 22,
   "id": "e77d5360",
   "metadata": {},
   "outputs": [],
   "source": [
    "bqplot.ColorScale?"
   ]
  },
  {
   "cell_type": "code",
   "execution_count": 23,
   "id": "c497a286",
   "metadata": {},
   "outputs": [
    {
     "data": {
      "application/vnd.jupyter.widget-view+json": {
       "model_id": "3d4ea08c642e4f84861d47511ebf09dd",
       "version_major": 2,
       "version_minor": 0
      },
      "text/plain": [
       "Figure(fig_margin={'top': 60, 'bottom': 60, 'left': 60, 'right': 60}, marks=[GridHeatMap(color=array([[0.70038…"
      ]
     },
     "metadata": {},
     "output_type": "display_data"
    }
   ],
   "source": [
    "# 2. Scales (just with color scale)\n",
    "col_sc = bqplot.ColorScale()\n",
    "\n",
    "# 3. Axis (skip)\n",
    "\n",
    "# 4. Mark\n",
    "heat_map = bqplot.GridHeatMap(color=data, scales = {'color':col_sc})\n",
    "\n",
    "# 5. interactivity (skip)\n",
    "\n",
    "# 6. finally, a figure\n",
    "fig = bqplot.Figure(marks=[heat_map])\n",
    "fig"
   ]
  },
  {
   "cell_type": "code",
   "execution_count": 24,
   "id": "37c1dc4a",
   "metadata": {},
   "outputs": [],
   "source": [
    "bqplot.GridHeatMap?"
   ]
  },
  {
   "cell_type": "code",
   "execution_count": 25,
   "id": "c92ce265",
   "metadata": {},
   "outputs": [
    {
     "data": {
      "application/vnd.jupyter.widget-view+json": {
       "model_id": "8b80677be6ee48489b07767589f9b284",
       "version_major": 2,
       "version_minor": 0
      },
      "text/plain": [
       "Figure(fig_margin={'top': 60, 'bottom': 60, 'left': 60, 'right': 60}, marks=[GridHeatMap(color=array([[0.70038…"
      ]
     },
     "metadata": {},
     "output_type": "display_data"
    }
   ],
   "source": [
    "# 2. Scales (just with color scale)\n",
    "col_sc = bqplot.ColorScale(scheme='Blues')\n",
    "\n",
    "# 3. Axis (skip)\n",
    "\n",
    "# 4. Mark\n",
    "heat_map = bqplot.GridHeatMap(color=data, scales = {'color':col_sc})\n",
    "\n",
    "# 5. interactivity (skip)\n",
    "\n",
    "# 6. finally, a figure\n",
    "fig = bqplot.Figure(marks=[heat_map])\n",
    "fig"
   ]
  },
  {
   "cell_type": "code",
   "execution_count": 26,
   "id": "e7922804",
   "metadata": {},
   "outputs": [],
   "source": [
    "bqplot.ColorAxis?"
   ]
  },
  {
   "cell_type": "code",
   "execution_count": 27,
   "id": "7662b812",
   "metadata": {},
   "outputs": [
    {
     "data": {
      "application/vnd.jupyter.widget-view+json": {
       "model_id": "4595d8079f3f4e7cbb3d92fcdb0d9cf4",
       "version_major": 2,
       "version_minor": 0
      },
      "text/plain": [
       "Figure(axes=[ColorAxis(orientation='vertical', scale=ColorScale(scheme='Blues'), side='right')], fig_margin={'…"
      ]
     },
     "metadata": {},
     "output_type": "display_data"
    },
    {
     "name": "stderr",
     "output_type": "stream",
     "text": [
      "No such comm: 526e3cad15804663852974ee8884db82\n",
      "No such comm: 526e3cad15804663852974ee8884db82\n",
      "No such comm: 526e3cad15804663852974ee8884db82\n",
      "No such comm: 526e3cad15804663852974ee8884db82\n",
      "No such comm: 526e3cad15804663852974ee8884db82\n"
     ]
    }
   ],
   "source": [
    "# 2. Scales (just with color scale)\n",
    "col_sc = bqplot.ColorScale(scheme='Blues')\n",
    "\n",
    "# 3. Axis \n",
    "col_ax = bqplot.ColorAxis(scale=col_sc, orientation='vertical', side='right')\n",
    "\n",
    "# 4. Mark\n",
    "heat_map = bqplot.GridHeatMap(color=data, scales = {'color':col_sc})\n",
    "\n",
    "# 5. interactivity (skip)\n",
    "\n",
    "# 6. finally, a figure\n",
    "fig = bqplot.Figure(marks=[heat_map], axes=[col_ax])\n",
    "fig"
   ]
  },
  {
   "cell_type": "code",
   "execution_count": 28,
   "id": "c21ea14f",
   "metadata": {},
   "outputs": [
    {
     "data": {
      "application/vnd.jupyter.widget-view+json": {
       "model_id": "67be90fdb28a48f5879dd6217b4a039f",
       "version_major": 2,
       "version_minor": 0
      },
      "text/plain": [
       "Figure(axes=[ColorAxis(orientation='vertical', scale=ColorScale(scheme='Blues'), side='right'), Axis(label='Co…"
      ]
     },
     "metadata": {},
     "output_type": "display_data"
    },
    {
     "name": "stderr",
     "output_type": "stream",
     "text": [
      "No such comm: 7049e38645ee490f8ec67e1554fb6c18\n",
      "No such comm: 7049e38645ee490f8ec67e1554fb6c18\n"
     ]
    }
   ],
   "source": [
    "# 2. Scales \n",
    "col_sc = bqplot.ColorScale(scheme='Blues')\n",
    "x_sc = bqplot.OrdinalScale() # ordered bin numbers\n",
    "y_sc = bqplot.OrdinalScale()\n",
    "\n",
    "# 3. Axis \n",
    "col_ax = bqplot.ColorAxis(scale=col_sc, orientation='vertical', side='right')\n",
    "x_ax = bqplot.Axis(scale=x_sc, label='Column Bin')\n",
    "y_ax = bqplot.Axis(scale=y_sc, label='Row Bin', orientation='vertical')\n",
    "\n",
    "# 4. Mark\n",
    "heat_map = bqplot.GridHeatMap(color=data, scales = {'color':col_sc})\n",
    "\n",
    "# 5. interactivity (skip)\n",
    "\n",
    "# 6. finally, a figure\n",
    "fig = bqplot.Figure(marks=[heat_map], axes=[col_ax, x_ax, y_ax])\n",
    "fig"
   ]
  },
  {
   "cell_type": "code",
   "execution_count": 4,
   "id": "2d5b36f7",
   "metadata": {},
   "outputs": [
    {
     "data": {
      "application/vnd.jupyter.widget-view+json": {
       "model_id": "38db080493b24dfe9db1844d51c604f4",
       "version_major": 2,
       "version_minor": 0
      },
      "text/plain": [
       "Figure(axes=[ColorAxis(orientation='vertical', scale=ColorScale(scheme='Blues'), side='right'), Axis(label='Co…"
      ]
     },
     "metadata": {},
     "output_type": "display_data"
    }
   ],
   "source": [
    "# 2. Scales \n",
    "col_sc = bqplot.ColorScale(scheme='Blues')\n",
    "x_sc = bqplot.OrdinalScale() # ordered bin numbers\n",
    "y_sc = bqplot.OrdinalScale()\n",
    "\n",
    "# 3. Axis \n",
    "col_ax = bqplot.ColorAxis(scale=col_sc, orientation='vertical', side='right')\n",
    "x_ax = bqplot.Axis(scale=x_sc, label='Column Bin')\n",
    "y_ax = bqplot.Axis(scale=y_sc, label='Row Bin', orientation='vertical')\n",
    "\n",
    "# 4. Mark\n",
    "heat_map = bqplot.GridHeatMap(color=data, scales = {'color':col_sc,\n",
    "                                                   'row':y_sc,\n",
    "                                                   'column':x_sc},\n",
    "                             interactions = {'click':'select'},\n",
    "                             anchor_style={'fill':'red'})\n",
    "\n",
    "# 5. interactivity (skip)\n",
    "\n",
    "# 6. finally, a figure\n",
    "fig = bqplot.Figure(marks=[heat_map], axes=[col_ax, x_ax, y_ax])\n",
    "fig"
   ]
  },
  {
   "cell_type": "code",
   "execution_count": 5,
   "id": "4cb3dc0b",
   "metadata": {},
   "outputs": [
    {
     "data": {
      "text/plain": [
       "array([[3, 3]])"
      ]
     },
     "execution_count": 5,
     "metadata": {},
     "output_type": "execute_result"
    }
   ],
   "source": [
    "heat_map.selected"
   ]
  },
  {
   "cell_type": "code",
   "execution_count": 7,
   "id": "0979c9ee",
   "metadata": {},
   "outputs": [],
   "source": [
    "import ipywidgets"
   ]
  },
  {
   "cell_type": "code",
   "execution_count": 8,
   "id": "cdd60798",
   "metadata": {},
   "outputs": [],
   "source": [
    "myLabel = ipywidgets.Label()"
   ]
  },
  {
   "cell_type": "code",
   "execution_count": 9,
   "id": "bea92ce0",
   "metadata": {},
   "outputs": [
    {
     "data": {
      "application/vnd.jupyter.widget-view+json": {
       "model_id": "0c0f4baf11da48c29b23abdbd270f9b5",
       "version_major": 2,
       "version_minor": 0
      },
      "text/plain": [
       "Label(value='')"
      ]
     },
     "metadata": {},
     "output_type": "display_data"
    }
   ],
   "source": [
    "myLabel"
   ]
  },
  {
   "cell_type": "code",
   "execution_count": 10,
   "id": "a836d624",
   "metadata": {},
   "outputs": [],
   "source": [
    "myLabel.value = 'Data value = '"
   ]
  },
  {
   "cell_type": "code",
   "execution_count": 11,
   "id": "5d07c9ff",
   "metadata": {},
   "outputs": [
    {
     "data": {
      "application/vnd.jupyter.widget-view+json": {
       "model_id": "d6165e0fbc384db2bbfa8b6235708391",
       "version_major": 2,
       "version_minor": 0
      },
      "text/plain": [
       "Figure(axes=[ColorAxis(orientation='vertical', scale=ColorScale(scheme='Blues'), side='right'), Axis(label='Co…"
      ]
     },
     "metadata": {},
     "output_type": "display_data"
    },
    {
     "name": "stdout",
     "output_type": "stream",
     "text": [
      "{'name': 'selected', 'old': None, 'new': array([[0, 0]]), 'owner': GridHeatMap(anchor_style={'fill': 'red'}, color=array([[0.53468473, 0.58402246, 0.5651327 , 0.5514027 , 0.22311885,\n",
      "        0.13820927, 0.73654254, 0.38911282, 0.42160082, 0.83348024],\n",
      "       [0.721861  , 0.0036693 , 0.12471514, 0.56887637, 0.4627813 ,\n",
      "        0.53012346, 0.47584434, 0.09921991, 0.9454382 , 0.94667641],\n",
      "       [0.38659402, 0.28687299, 0.33524561, 0.8017765 , 0.90320668,\n",
      "        0.95950303, 0.05798183, 0.33286445, 0.51746625, 0.25081624],\n",
      "       [0.39391042, 0.10180096, 0.00845126, 0.43906519, 0.52637264,\n",
      "        0.76662125, 0.13649299, 0.09557948, 0.004432  , 0.42144636],\n",
      "       [0.37613444, 0.54121825, 0.84828261, 0.43389516, 0.23772923,\n",
      "        0.70993606, 0.01920117, 0.91925003, 0.02290521, 0.14332296],\n",
      "       [0.09521091, 0.26294591, 0.27664038, 0.1239107 , 0.45969907,\n",
      "        0.26569041, 0.06243017, 0.40111869, 0.75768595, 0.27955514],\n",
      "       [0.65748675, 0.60025598, 0.94562134, 0.15217116, 0.75206863,\n",
      "        0.15281635, 0.48206699, 0.80339329, 0.48223461, 0.98493706],\n",
      "       [0.01151034, 0.71742504, 0.40212267, 0.06777454, 0.85763398,\n",
      "        0.18128145, 0.45675542, 0.70197797, 0.17705936, 0.4970963 ],\n",
      "       [0.13390679, 0.48541396, 0.09882219, 0.76776449, 0.05498422,\n",
      "        0.99964221, 0.37105754, 0.74293887, 0.26066668, 0.50886725],\n",
      "       [0.10059191, 0.66476777, 0.04758338, 0.54306464, 0.88527027,\n",
      "        0.34263   , 0.23325987, 0.71406472, 0.08718169, 0.89057236]]), interactions={'click': 'select'}, scales={'color': ColorScale(scheme='Blues'), 'row': OrdinalScale(), 'column': OrdinalScale()}, scales_metadata={'row': {'orientation': 'vertical', 'dimension': 'y'}, 'column': {'orientation': 'horizontal', 'dimension': 'x'}, 'color': {'dimension': 'color'}}, selected=array([[0, 0]]), tooltip_style={'opacity': 0.9}), 'type': 'change'}\n"
     ]
    }
   ],
   "source": [
    "# 2. Scales \n",
    "col_sc = bqplot.ColorScale(scheme='Blues')\n",
    "x_sc = bqplot.OrdinalScale() # ordered bin numbers\n",
    "y_sc = bqplot.OrdinalScale()\n",
    "\n",
    "# 3. Axis \n",
    "col_ax = bqplot.ColorAxis(scale=col_sc, orientation='vertical', side='right')\n",
    "x_ax = bqplot.Axis(scale=x_sc, label='Column Bin')\n",
    "y_ax = bqplot.Axis(scale=y_sc, label='Row Bin', orientation='vertical')\n",
    "\n",
    "# 4. Mark\n",
    "heat_map = bqplot.GridHeatMap(color=data, scales = {'color':col_sc,\n",
    "                                                   'row':y_sc,\n",
    "                                                   'column':x_sc},\n",
    "                             interactions = {'click':'select'},\n",
    "                             anchor_style={'fill':'red'})\n",
    "\n",
    "# 5. interactivity \n",
    "def on_selected(change):\n",
    "    print(change)\n",
    "heat_map.observe(on_selected, 'selected')\n",
    "\n",
    "# 6. finally, a figure\n",
    "fig = bqplot.Figure(marks=[heat_map], axes=[col_ax, x_ax, y_ax])\n",
    "fig"
   ]
  },
  {
   "cell_type": "code",
   "execution_count": 12,
   "id": "70e3278f",
   "metadata": {},
   "outputs": [
    {
     "data": {
      "application/vnd.jupyter.widget-view+json": {
       "model_id": "7227d4992b324cd581bfefb6752fb6b5",
       "version_major": 2,
       "version_minor": 0
      },
      "text/plain": [
       "Figure(axes=[ColorAxis(orientation='vertical', scale=ColorScale(scheme='Blues'), side='right'), Axis(label='Co…"
      ]
     },
     "metadata": {},
     "output_type": "display_data"
    },
    {
     "name": "stdout",
     "output_type": "stream",
     "text": [
      "[[4 2]]\n",
      "[[4 3]]\n",
      "[[4 4]]\n",
      "[[3 4]]\n",
      "[[4 4]\n",
      " [3 4]]\n",
      "[[4 5]\n",
      " [3 4]\n",
      " [3 5]\n",
      " [4 4]]\n"
     ]
    }
   ],
   "source": [
    "# 2. Scales \n",
    "col_sc = bqplot.ColorScale(scheme='Blues')\n",
    "x_sc = bqplot.OrdinalScale() # ordered bin numbers\n",
    "y_sc = bqplot.OrdinalScale()\n",
    "\n",
    "# 3. Axis \n",
    "col_ax = bqplot.ColorAxis(scale=col_sc, orientation='vertical', side='right')\n",
    "x_ax = bqplot.Axis(scale=x_sc, label='Column Bin')\n",
    "y_ax = bqplot.Axis(scale=y_sc, label='Row Bin', orientation='vertical')\n",
    "\n",
    "# 4. Mark\n",
    "heat_map = bqplot.GridHeatMap(color=data, scales = {'color':col_sc,\n",
    "                                                   'row':y_sc,\n",
    "                                                   'column':x_sc},\n",
    "                             interactions = {'click':'select'},\n",
    "                             anchor_style={'fill':'red'})\n",
    "\n",
    "# 5. interactivity \n",
    "def on_selected(change):\n",
    "    #print(change)\n",
    "    print(change['owner'].selected)\n",
    "heat_map.observe(on_selected, 'selected')\n",
    "\n",
    "# 6. finally, a figure\n",
    "fig = bqplot.Figure(marks=[heat_map], axes=[col_ax, x_ax, y_ax])\n",
    "fig"
   ]
  },
  {
   "cell_type": "code",
   "execution_count": 15,
   "id": "ab9a2daf",
   "metadata": {},
   "outputs": [
    {
     "data": {
      "application/vnd.jupyter.widget-view+json": {
       "model_id": "c80d9bcaeda6464aa127e61298d7afa6",
       "version_major": 2,
       "version_minor": 0
      },
      "text/plain": [
       "Figure(axes=[ColorAxis(orientation='vertical', scale=ColorScale(scheme='Blues'), side='right'), Axis(label='Co…"
      ]
     },
     "metadata": {},
     "output_type": "display_data"
    },
    {
     "name": "stdout",
     "output_type": "stream",
     "text": [
      "[3 2]\n",
      "[3 3]\n",
      "[1 3]\n",
      "[1 2]\n",
      "[2 2]\n"
     ]
    }
   ],
   "source": [
    "# 2. Scales \n",
    "col_sc = bqplot.ColorScale(scheme='Blues')\n",
    "x_sc = bqplot.OrdinalScale() # ordered bin numbers\n",
    "y_sc = bqplot.OrdinalScale()\n",
    "\n",
    "# 3. Axis \n",
    "col_ax = bqplot.ColorAxis(scale=col_sc, orientation='vertical', side='right')\n",
    "x_ax = bqplot.Axis(scale=x_sc, label='Column Bin')\n",
    "y_ax = bqplot.Axis(scale=y_sc, label='Row Bin', orientation='vertical')\n",
    "\n",
    "# 4. Mark\n",
    "heat_map = bqplot.GridHeatMap(color=data, scales = {'color':col_sc,\n",
    "                                                   'row':y_sc,\n",
    "                                                   'column':x_sc},\n",
    "                             interactions = {'click':'select'},\n",
    "                             anchor_style={'fill':'red'})\n",
    "\n",
    "# 5. interactivity \n",
    "def on_selected(change):\n",
    "    #print(change)\n",
    "    if len(change['owner'].selected) == 1:\n",
    "        print(change['owner'].selected[0])\n",
    "heat_map.observe(on_selected, 'selected')\n",
    "\n",
    "# 6. finally, a figure\n",
    "fig = bqplot.Figure(marks=[heat_map], axes=[col_ax, x_ax, y_ax])\n",
    "fig"
   ]
  },
  {
   "cell_type": "code",
   "execution_count": 17,
   "id": "77d17290",
   "metadata": {},
   "outputs": [
    {
     "data": {
      "text/plain": [
       "'Data value = '"
      ]
     },
     "execution_count": 17,
     "metadata": {},
     "output_type": "execute_result"
    }
   ],
   "source": [
    "myLabel.value"
   ]
  },
  {
   "cell_type": "code",
   "execution_count": 18,
   "id": "369c139e",
   "metadata": {},
   "outputs": [
    {
     "data": {
      "application/vnd.jupyter.widget-view+json": {
       "model_id": "ce03bd21129c4ea38a3ce5dc12070ec3",
       "version_major": 2,
       "version_minor": 0
      },
      "text/plain": [
       "Figure(axes=[ColorAxis(orientation='vertical', scale=ColorScale(scheme='Blues'), side='right'), Axis(label='Co…"
      ]
     },
     "metadata": {},
     "output_type": "display_data"
    }
   ],
   "source": [
    "# 2. Scales \n",
    "col_sc = bqplot.ColorScale(scheme='Blues')\n",
    "x_sc = bqplot.OrdinalScale() # ordered bin numbers\n",
    "y_sc = bqplot.OrdinalScale()\n",
    "\n",
    "# 3. Axis \n",
    "col_ax = bqplot.ColorAxis(scale=col_sc, orientation='vertical', side='right')\n",
    "x_ax = bqplot.Axis(scale=x_sc, label='Column Bin')\n",
    "y_ax = bqplot.Axis(scale=y_sc, label='Row Bin', orientation='vertical')\n",
    "\n",
    "# 4. Mark\n",
    "heat_map = bqplot.GridHeatMap(color=data, scales = {'color':col_sc,\n",
    "                                                   'row':y_sc,\n",
    "                                                   'column':x_sc},\n",
    "                             interactions = {'click':'select'},\n",
    "                             anchor_style={'fill':'red'})\n",
    "\n",
    "# 5. interactivity \n",
    "def on_selected(change):\n",
    "    #print(change)\n",
    "    if len(change['owner'].selected) == 1:\n",
    "        #print(change['owner'].selected[0])\n",
    "        i,j = change['owner'].selected[0]\n",
    "        myLabel.value = 'Data value = ' + str(data[i,j])\n",
    "heat_map.observe(on_selected, 'selected')\n",
    "\n",
    "# 6. finally, a figure\n",
    "fig = bqplot.Figure(marks=[heat_map], axes=[col_ax, x_ax, y_ax])\n",
    "fig"
   ]
  },
  {
   "cell_type": "code",
   "execution_count": 19,
   "id": "348827bc",
   "metadata": {},
   "outputs": [
    {
     "data": {
      "application/vnd.jupyter.widget-view+json": {
       "model_id": "0c0f4baf11da48c29b23abdbd270f9b5",
       "version_major": 2,
       "version_minor": 0
      },
      "text/plain": [
       "Label(value='Data value = 0.9966194164908724')"
      ]
     },
     "metadata": {},
     "output_type": "display_data"
    }
   ],
   "source": [
    "myLabel"
   ]
  },
  {
   "cell_type": "code",
   "execution_count": null,
   "id": "0618c970",
   "metadata": {},
   "outputs": [],
   "source": []
  }
 ],
 "metadata": {
  "kernelspec": {
   "display_name": "Python 3 (ipykernel)",
   "language": "python",
   "name": "python3"
  },
  "language_info": {
   "codemirror_mode": {
    "name": "ipython",
    "version": 3
   },
   "file_extension": ".py",
   "mimetype": "text/x-python",
   "name": "python",
   "nbconvert_exporter": "python",
   "pygments_lexer": "ipython3",
   "version": "3.8.17"
  }
 },
 "nbformat": 4,
 "nbformat_minor": 5
}
