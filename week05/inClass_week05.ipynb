{
 "cells": [
  {
   "cell_type": "markdown",
   "id": "respective-store",
   "metadata": {},
   "source": [
    "# In Class Notebook, Week 05"
   ]
  },
  {
   "cell_type": "markdown",
   "id": "2a597611",
   "metadata": {},
   "source": [
    "You can click on the GitHub URL of this notebook to access the file in near-real time: https://github.com/UIUC-iSchool-DataViz/is445_bcubcg_fall2023/blob/master/week05/inClass_week05.ipynb \n",
    "\n",
    "Or you can copy-paste into the nbviewer interface for a plain-text rendering:\n",
    "\n",
    "https://kokes.github.io/nbviewer.js/viewer.html"
   ]
  },
  {
   "cell_type": "code",
   "execution_count": 1,
   "id": "c0a0e450",
   "metadata": {},
   "outputs": [],
   "source": [
    "import ipywidgets"
   ]
  },
  {
   "cell_type": "code",
   "execution_count": 2,
   "id": "182e8b80",
   "metadata": {},
   "outputs": [
    {
     "data": {
      "application/vnd.jupyter.widget-view+json": {
       "model_id": "1df6ca9629e74f86b44906dafbb2ce17",
       "version_major": 2,
       "version_minor": 0
      },
      "text/plain": [
       "IntSlider(value=0, max=10, orientation='vertical')"
      ]
     },
     "metadata": {},
     "output_type": "display_data"
    }
   ],
   "source": [
    "islider = ipywidgets.IntSlider(min=0,max=10, step=1, orientation='vertical')\n",
    "islider"
   ]
  },
  {
   "cell_type": "code",
   "execution_count": 3,
   "id": "96e96f36",
   "metadata": {},
   "outputs": [
    {
     "data": {
      "application/vnd.jupyter.widget-view+json": {
       "model_id": "344c21a1953a459b982132c93eba6efe",
       "version_major": 2,
       "version_minor": 0
      },
      "text/plain": [
       "ColorPicker(value='black')"
      ]
     },
     "metadata": {},
     "output_type": "display_data"
    }
   ],
   "source": [
    "cp = ipywidgets.ColorPicker()\n",
    "cp"
   ]
  },
  {
   "cell_type": "code",
   "execution_count": 4,
   "id": "05160511",
   "metadata": {},
   "outputs": [
    {
     "data": {
      "text/plain": [
       "<traitlets.traitlets.link at 0x7fe828509340>"
      ]
     },
     "execution_count": 4,
     "metadata": {},
     "output_type": "execute_result"
    }
   ],
   "source": [
    "ipywidgets.link( (cp,'value'), (islider.style, 'handle_color'))"
   ]
  },
  {
   "cell_type": "code",
   "execution_count": 5,
   "id": "b75ab077",
   "metadata": {},
   "outputs": [],
   "source": [
    "class MyObject():\n",
    "    name = 'unnamed'\n",
    "    age = 0"
   ]
  },
  {
   "cell_type": "code",
   "execution_count": 6,
   "id": "100ba855",
   "metadata": {},
   "outputs": [],
   "source": [
    "my_obj = MyObject()"
   ]
  },
  {
   "cell_type": "code",
   "execution_count": 7,
   "id": "3d58b0af",
   "metadata": {},
   "outputs": [
    {
     "data": {
      "text/plain": [
       "('unnamed', 0)"
      ]
     },
     "execution_count": 7,
     "metadata": {},
     "output_type": "execute_result"
    }
   ],
   "source": [
    "my_obj.name, my_obj.age"
   ]
  },
  {
   "cell_type": "code",
   "execution_count": 8,
   "id": "5ef19dfc",
   "metadata": {},
   "outputs": [],
   "source": [
    "my_obj.name = 'Bob'\n",
    "my_obj.age = 47"
   ]
  },
  {
   "cell_type": "code",
   "execution_count": 9,
   "id": "21382e9d",
   "metadata": {},
   "outputs": [
    {
     "name": "stdout",
     "output_type": "stream",
     "text": [
      "Hello, my name is Bob and I am 47 years old\n"
     ]
    }
   ],
   "source": [
    "print('Hello, my name is', my_obj.name, 'and I am', my_obj.age, 'years old')"
   ]
  },
  {
   "cell_type": "code",
   "execution_count": 10,
   "id": "c53b9afa",
   "metadata": {},
   "outputs": [],
   "source": [
    "my_obj.name = 'Linda'\n",
    "my_obj.age = 45"
   ]
  },
  {
   "cell_type": "code",
   "execution_count": 11,
   "id": "5b545ef5",
   "metadata": {},
   "outputs": [
    {
     "name": "stdout",
     "output_type": "stream",
     "text": [
      "Hello, my name is Linda and I am 45 years old\n"
     ]
    }
   ],
   "source": [
    "print('Hello, my name is', my_obj.name, 'and I am', my_obj.age, 'years old')"
   ]
  },
  {
   "cell_type": "code",
   "execution_count": 12,
   "id": "10db7684",
   "metadata": {},
   "outputs": [],
   "source": [
    "import traitlets"
   ]
  },
  {
   "cell_type": "code",
   "execution_count": 13,
   "id": "e5a90331",
   "metadata": {},
   "outputs": [],
   "source": [
    "# class MyObject():\n",
    "#     name = 'unnamed'\n",
    "#     age = 0\n",
    "\n",
    "class MyTraitletObject(traitlets.HasTraits):\n",
    "    name = traitlets.Unicode('unnamed') # fancy of saying formatting string\n",
    "    age = traitlets.Int(0) # similar to age = 0, but fancy"
   ]
  },
  {
   "cell_type": "code",
   "execution_count": 14,
   "id": "7722c8f7",
   "metadata": {},
   "outputs": [],
   "source": [
    "my_t_obj = MyTraitletObject()\n",
    "my_t_obj.name = 'Bob'\n",
    "my_t_obj.age = 47"
   ]
  },
  {
   "cell_type": "code",
   "execution_count": 15,
   "id": "90274fbe",
   "metadata": {},
   "outputs": [
    {
     "data": {
      "text/plain": [
       "('Bob', 47)"
      ]
     },
     "execution_count": 15,
     "metadata": {},
     "output_type": "execute_result"
    }
   ],
   "source": [
    "my_t_obj.name, my_t_obj.age"
   ]
  },
  {
   "cell_type": "code",
   "execution_count": 16,
   "id": "d07e30e5",
   "metadata": {},
   "outputs": [
    {
     "name": "stdout",
     "output_type": "stream",
     "text": [
      "Hello, my name is Bob and I am 47 years old\n"
     ]
    }
   ],
   "source": [
    "print('Hello, my name is', my_t_obj.name, 'and I am', my_t_obj.age, 'years old')"
   ]
  },
  {
   "cell_type": "code",
   "execution_count": 17,
   "id": "0fc8774f",
   "metadata": {},
   "outputs": [],
   "source": [
    "def name_changed(change):\n",
    "    print(change)\n",
    "    \n",
    "my_t_obj.observe(name_changed, ['name'])"
   ]
  },
  {
   "cell_type": "code",
   "execution_count": 18,
   "id": "d9b49e0a",
   "metadata": {},
   "outputs": [
    {
     "name": "stdout",
     "output_type": "stream",
     "text": [
      "{'name': 'name', 'old': 'Bob', 'new': 'Linda', 'owner': <__main__.MyTraitletObject object at 0x7fe7f80deb20>, 'type': 'change'}\n"
     ]
    }
   ],
   "source": [
    "my_t_obj.name = 'Linda'"
   ]
  },
  {
   "cell_type": "code",
   "execution_count": 19,
   "id": "30403e8f",
   "metadata": {},
   "outputs": [],
   "source": [
    "def name_changed2(change):\n",
    "    print('Hello, my name is', change['new'], 'and I am', \n",
    "          change['owner'].age, 'years old')\n",
    "    \n",
    "my_t_obj.observe(name_changed2, ['name'])"
   ]
  },
  {
   "cell_type": "code",
   "execution_count": 20,
   "id": "8863fdf0",
   "metadata": {},
   "outputs": [
    {
     "name": "stdout",
     "output_type": "stream",
     "text": [
      "{'name': 'name', 'old': 'Linda', 'new': 'Bob', 'owner': <__main__.MyTraitletObject object at 0x7fe7f80deb20>, 'type': 'change'}\n",
      "Hello, my name is Bob and I am 47 years old\n"
     ]
    }
   ],
   "source": [
    "my_t_obj.name = 'Bob'"
   ]
  },
  {
   "cell_type": "code",
   "execution_count": 21,
   "id": "e2ec8b3a",
   "metadata": {},
   "outputs": [],
   "source": [
    "my_t_obj.unobserve(name_changed, ['name'])"
   ]
  },
  {
   "cell_type": "code",
   "execution_count": 22,
   "id": "5d5eab48",
   "metadata": {},
   "outputs": [
    {
     "name": "stdout",
     "output_type": "stream",
     "text": [
      "Hello, my name is Linda and I am 47 years old\n"
     ]
    }
   ],
   "source": [
    "my_t_obj.name = 'Linda'"
   ]
  },
  {
   "cell_type": "code",
   "execution_count": 23,
   "id": "4ee65992",
   "metadata": {},
   "outputs": [],
   "source": [
    "def age_changed(change):\n",
    "    print('Hello, my name is', change['owner'].name, 'and I am', \n",
    "         change['new'], 'years old')\n",
    "my_t_obj.observe(age_changed, ['age'])"
   ]
  },
  {
   "cell_type": "code",
   "execution_count": 24,
   "id": "5d9c2e7d",
   "metadata": {},
   "outputs": [
    {
     "name": "stdout",
     "output_type": "stream",
     "text": [
      "Hello, my name is Linda and I am 45 years old\n"
     ]
    }
   ],
   "source": [
    "my_t_obj.age = 45"
   ]
  },
  {
   "cell_type": "code",
   "execution_count": 25,
   "id": "e4193811",
   "metadata": {},
   "outputs": [
    {
     "name": "stdout",
     "output_type": "stream",
     "text": [
      "Hello, my name is Louise and I am 45 years old\n"
     ]
    }
   ],
   "source": [
    "my_t_obj.name, my_t_age = 'Louise', 8"
   ]
  },
  {
   "cell_type": "markdown",
   "id": "5728ac88",
   "metadata": {},
   "source": [
    "## Onto bqplot!"
   ]
  },
  {
   "cell_type": "code",
   "execution_count": 1,
   "id": "228e7782",
   "metadata": {},
   "outputs": [],
   "source": [
    "import bqplot\n",
    "import numpy as np"
   ]
  },
  {
   "cell_type": "markdown",
   "id": "60879e40",
   "metadata": {},
   "source": [
    "**Step 1: Data**"
   ]
  },
  {
   "cell_type": "code",
   "execution_count": 27,
   "id": "52ad589e",
   "metadata": {},
   "outputs": [],
   "source": [
    "x = np.arange(100)"
   ]
  },
  {
   "cell_type": "code",
   "execution_count": 28,
   "id": "fa0ae73e",
   "metadata": {},
   "outputs": [
    {
     "data": {
      "text/plain": [
       "array([ 0,  1,  2,  3,  4,  5,  6,  7,  8,  9, 10, 11, 12, 13, 14, 15, 16,\n",
       "       17, 18, 19, 20, 21, 22, 23, 24, 25, 26, 27, 28, 29, 30, 31, 32, 33,\n",
       "       34, 35, 36, 37, 38, 39, 40, 41, 42, 43, 44, 45, 46, 47, 48, 49, 50,\n",
       "       51, 52, 53, 54, 55, 56, 57, 58, 59, 60, 61, 62, 63, 64, 65, 66, 67,\n",
       "       68, 69, 70, 71, 72, 73, 74, 75, 76, 77, 78, 79, 80, 81, 82, 83, 84,\n",
       "       85, 86, 87, 88, 89, 90, 91, 92, 93, 94, 95, 96, 97, 98, 99])"
      ]
     },
     "execution_count": 28,
     "metadata": {},
     "output_type": "execute_result"
    }
   ],
   "source": [
    "x"
   ]
  },
  {
   "cell_type": "code",
   "execution_count": 29,
   "id": "1e98bde2",
   "metadata": {},
   "outputs": [],
   "source": [
    "y = np.random.random(100)"
   ]
  },
  {
   "cell_type": "code",
   "execution_count": 30,
   "id": "fc0b343e",
   "metadata": {},
   "outputs": [
    {
     "data": {
      "text/plain": [
       "array([1.62381502e-01, 8.97002548e-01, 2.32082665e-01, 3.27385341e-01,\n",
       "       9.68703600e-01, 7.39343437e-01, 8.71832811e-01, 4.75900007e-01,\n",
       "       8.60471850e-01, 4.13857104e-01, 5.02701892e-01, 1.78266706e-01,\n",
       "       1.36666780e-01, 3.68426910e-01, 7.52099702e-01, 4.60926320e-01,\n",
       "       8.94230925e-01, 4.45056535e-01, 3.37995064e-01, 2.70542989e-01,\n",
       "       2.71781363e-01, 8.47604982e-01, 5.99005770e-01, 5.19918242e-01,\n",
       "       2.55207527e-01, 6.83709803e-01, 7.90210712e-01, 8.32889680e-01,\n",
       "       4.49724777e-02, 4.68057151e-01, 8.88741971e-01, 5.23616689e-01,\n",
       "       8.62514296e-01, 1.14652301e-01, 8.48313912e-01, 7.10712158e-01,\n",
       "       8.65235264e-01, 2.09059134e-01, 4.19479230e-01, 7.35474041e-02,\n",
       "       3.37295409e-01, 3.99625648e-01, 4.65996295e-01, 1.94888287e-01,\n",
       "       6.18194222e-01, 6.99414556e-01, 3.51456830e-01, 6.21899385e-02,\n",
       "       4.96684901e-01, 8.19784357e-01, 3.15276332e-01, 2.85879136e-01,\n",
       "       8.90344097e-01, 2.70922121e-01, 1.58971922e-01, 6.21419696e-01,\n",
       "       1.60030376e-02, 2.84460556e-01, 8.77469528e-01, 2.51337954e-01,\n",
       "       8.13347693e-01, 3.22366103e-01, 1.57366364e-01, 9.42462696e-01,\n",
       "       8.43262394e-01, 6.57607372e-01, 9.05361900e-01, 1.02293397e-01,\n",
       "       8.91076551e-01, 4.91576945e-01, 2.07952813e-01, 2.23904094e-01,\n",
       "       9.46186498e-01, 5.98666708e-01, 7.68179748e-05, 1.75500412e-01,\n",
       "       2.44831990e-01, 4.58442358e-01, 7.94381802e-01, 3.67272814e-02,\n",
       "       6.07004980e-01, 4.67371243e-01, 4.59202394e-01, 7.31175766e-01,\n",
       "       4.36456426e-01, 5.37308125e-01, 6.52533816e-02, 8.77145067e-01,\n",
       "       9.94079802e-01, 2.80373031e-01, 5.54490775e-01, 6.02077439e-01,\n",
       "       6.83824828e-01, 5.96358817e-02, 3.25458224e-01, 1.20691746e-01,\n",
       "       1.46289875e-01, 2.85066471e-01, 7.83468355e-01, 7.46243795e-01])"
      ]
     },
     "execution_count": 30,
     "metadata": {},
     "output_type": "execute_result"
    }
   ],
   "source": [
    "y"
   ]
  },
  {
   "cell_type": "markdown",
   "id": "dd6e1b9d",
   "metadata": {},
   "source": [
    "**Step 2: Scales**"
   ]
  },
  {
   "cell_type": "code",
   "execution_count": 31,
   "id": "f9435b0c",
   "metadata": {},
   "outputs": [],
   "source": [
    "bqplot.LinearScale?"
   ]
  },
  {
   "cell_type": "code",
   "execution_count": 32,
   "id": "8cf2bafb",
   "metadata": {},
   "outputs": [],
   "source": [
    "x_sc = bqplot.LinearScale()\n",
    "y_sc = bqplot.LinearScale()"
   ]
  },
  {
   "cell_type": "markdown",
   "id": "1431d38e",
   "metadata": {},
   "source": [
    "**Step 3: Marks**"
   ]
  },
  {
   "cell_type": "code",
   "execution_count": 33,
   "id": "91895c32",
   "metadata": {},
   "outputs": [],
   "source": [
    "bqplot.Lines?"
   ]
  },
  {
   "cell_type": "code",
   "execution_count": 34,
   "id": "8ab83f00",
   "metadata": {},
   "outputs": [],
   "source": [
    "lines = bqplot.Lines(x=x, y=y,\n",
    "                    scales={'x':x_sc, 'y':y_sc})"
   ]
  },
  {
   "cell_type": "markdown",
   "id": "a9754694",
   "metadata": {},
   "source": [
    "**Step 4 (though sometimes this is step 3!): Axis**"
   ]
  },
  {
   "cell_type": "code",
   "execution_count": 35,
   "id": "9aa38851",
   "metadata": {},
   "outputs": [],
   "source": [
    "bqplot.Axis?"
   ]
  },
  {
   "cell_type": "code",
   "execution_count": 36,
   "id": "147ceda4",
   "metadata": {},
   "outputs": [],
   "source": [
    "ax_x = bqplot.Axis(scale=x_sc, label='X Value')\n",
    "ax_y = bqplot.Axis(scale=y_sc, label='Y Value', orientation='vertical')"
   ]
  },
  {
   "cell_type": "markdown",
   "id": "c6ebc456",
   "metadata": {},
   "source": [
    "**Step 5: Figure (here-ish is where any interactivity would be)**"
   ]
  },
  {
   "cell_type": "code",
   "execution_count": 37,
   "id": "2dd90b91",
   "metadata": {},
   "outputs": [],
   "source": [
    "bqplot.Figure?"
   ]
  },
  {
   "cell_type": "code",
   "execution_count": 38,
   "id": "e66091b6",
   "metadata": {},
   "outputs": [],
   "source": [
    "fig = bqplot.Figure(marks=[lines], axes=[ax_x, ax_y])\n",
    "fig"
   ]
  },
  {
   "cell_type": "code",
   "execution_count": 39,
   "id": "57dd7b23",
   "metadata": {},
   "outputs": [],
   "source": [
    "bqplot.interacts?"
   ]
  },
  {
   "cell_type": "code",
   "execution_count": 40,
   "id": "f1cc3aa6",
   "metadata": {},
   "outputs": [],
   "source": [
    "bqplot.interacts.PanZoom?"
   ]
  },
  {
   "cell_type": "code",
   "execution_count": 41,
   "id": "0b114f33",
   "metadata": {},
   "outputs": [],
   "source": [
    "pz = bqplot.interacts.PanZoom(scales={'x':[x_sc], 'y':[y_sc]})"
   ]
  },
  {
   "cell_type": "code",
   "execution_count": 42,
   "id": "d8fcf0f1",
   "metadata": {},
   "outputs": [],
   "source": [
    "fig = bqplot.Figure(marks=[lines], axes=[ax_x, ax_y], interaction = pz)\n",
    "fig"
   ]
  },
  {
   "cell_type": "markdown",
   "id": "575acfc3",
   "metadata": {},
   "source": [
    "### Scatter plot with random data and point selection (brush selection)"
   ]
  },
  {
   "cell_type": "code",
   "execution_count": 2,
   "id": "0a1930f7",
   "metadata": {},
   "outputs": [],
   "source": [
    "# 1. Data\n",
    "x = np.random.random(100)\n",
    "y = np.random.random(100)"
   ]
  },
  {
   "cell_type": "code",
   "execution_count": 6,
   "id": "2d2c32f8",
   "metadata": {},
   "outputs": [],
   "source": [
    "# 2. scales\n",
    "x_sc = bqplot.LinearScale()\n",
    "y_sc = bqplot.LinearScale()"
   ]
  },
  {
   "cell_type": "code",
   "execution_count": 7,
   "id": "f81214b8",
   "metadata": {},
   "outputs": [],
   "source": [
    "# 3. axis\n",
    "x_ax = bqplot.Axis(scale=x_sc, label='X')\n",
    "y_ax = bqplot.Axis(scale=y_sc, label = 'Y', orientation='vertical')"
   ]
  },
  {
   "cell_type": "code",
   "execution_count": 8,
   "id": "9fb6fb6f",
   "metadata": {},
   "outputs": [],
   "source": [
    "bqplot.Scatter?"
   ]
  },
  {
   "cell_type": "code",
   "execution_count": 9,
   "id": "7811edc5",
   "metadata": {},
   "outputs": [],
   "source": [
    "# 4. marks (Scatter)\n",
    "scatters = bqplot.Scatter(x=x, y=y, scales={'x':x_sc, 'y':y_sc})"
   ]
  },
  {
   "cell_type": "code",
   "execution_count": 11,
   "id": "771682a3",
   "metadata": {},
   "outputs": [],
   "source": [
    "# ESC+a for insert above\n",
    "bqplot.interacts.FastIntervalSelector?"
   ]
  },
  {
   "cell_type": "code",
   "execution_count": 10,
   "id": "ba2d18e5",
   "metadata": {},
   "outputs": [
    {
     "data": {
      "application/vnd.jupyter.widget-view+json": {
       "model_id": "643a690a09e543ebbd45ab4f2a0f05a4",
       "version_major": 2,
       "version_minor": 0
      },
      "text/plain": [
       "Figure(axes=[Axis(label='X', scale=LinearScale(), side='bottom'), Axis(label='Y', orientation='vertical', scal…"
      ]
     },
     "metadata": {},
     "output_type": "display_data"
    }
   ],
   "source": [
    "fig = bqplot.Figure(marks=[scatters], axes=[x_ax, y_ax])\n",
    "fig"
   ]
  },
  {
   "cell_type": "code",
   "execution_count": null,
   "id": "47388c42",
   "metadata": {},
   "outputs": [],
   "source": []
  }
 ],
 "metadata": {
  "kernelspec": {
   "display_name": "Python 3 (ipykernel)",
   "language": "python",
   "name": "python3"
  },
  "language_info": {
   "codemirror_mode": {
    "name": "ipython",
    "version": 3
   },
   "file_extension": ".py",
   "mimetype": "text/x-python",
   "name": "python",
   "nbconvert_exporter": "python",
   "pygments_lexer": "ipython3",
   "version": "3.8.17"
  }
 },
 "nbformat": 4,
 "nbformat_minor": 5
}
