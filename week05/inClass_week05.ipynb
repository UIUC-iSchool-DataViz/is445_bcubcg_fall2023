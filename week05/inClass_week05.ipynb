{
 "cells": [
  {
   "cell_type": "markdown",
   "id": "respective-store",
   "metadata": {},
   "source": [
    "# In Class Notebook, Week 05"
   ]
  },
  {
   "cell_type": "markdown",
   "id": "2a597611",
   "metadata": {},
   "source": [
    "You can click on the GitHub URL of this notebook to access the file in near-real time: https://github.com/UIUC-iSchool-DataViz/is445_bcubcg_fall2023/blob/master/week05/inClass_week05.ipynb \n",
    "\n",
    "Or you can copy-paste into the nbviewer interface for a plain-text rendering:\n",
    "\n",
    "https://kokes.github.io/nbviewer.js/viewer.html"
   ]
  },
  {
   "cell_type": "code",
   "execution_count": 1,
   "id": "c0a0e450",
   "metadata": {},
   "outputs": [],
   "source": [
    "import ipywidgets"
   ]
  },
  {
   "cell_type": "code",
   "execution_count": 2,
   "id": "4958c75f",
   "metadata": {},
   "outputs": [
    {
     "data": {
      "application/vnd.jupyter.widget-view+json": {
       "model_id": "1df6ca9629e74f86b44906dafbb2ce17",
       "version_major": 2,
       "version_minor": 0
      },
      "text/plain": [
       "IntSlider(value=0, max=10, orientation='vertical')"
      ]
     },
     "metadata": {},
     "output_type": "display_data"
    }
   ],
   "source": [
    "islider = ipywidgets.IntSlider(min=0,max=10, step=1, orientation='vertical')\n",
    "islider"
   ]
  },
  {
   "cell_type": "code",
   "execution_count": 3,
   "id": "37a6fcb0",
   "metadata": {},
   "outputs": [
    {
     "data": {
      "application/vnd.jupyter.widget-view+json": {
       "model_id": "344c21a1953a459b982132c93eba6efe",
       "version_major": 2,
       "version_minor": 0
      },
      "text/plain": [
       "ColorPicker(value='black')"
      ]
     },
     "metadata": {},
     "output_type": "display_data"
    }
   ],
   "source": [
    "cp = ipywidgets.ColorPicker()\n",
    "cp"
   ]
  },
  {
   "cell_type": "code",
   "execution_count": 4,
   "id": "0a526110",
   "metadata": {},
   "outputs": [
    {
     "data": {
      "text/plain": [
       "<traitlets.traitlets.link at 0x7fe828509340>"
      ]
     },
     "execution_count": 4,
     "metadata": {},
     "output_type": "execute_result"
    }
   ],
   "source": [
    "ipywidgets.link( (cp,'value'), (islider.style, 'handle_color'))"
   ]
  },
  {
   "cell_type": "code",
   "execution_count": 5,
   "id": "9afa6707",
   "metadata": {},
   "outputs": [],
   "source": [
    "class MyObject():\n",
    "    name = 'unnamed'\n",
    "    age = 0"
   ]
  },
  {
   "cell_type": "code",
   "execution_count": 6,
   "id": "2117c4a8",
   "metadata": {},
   "outputs": [],
   "source": [
    "my_obj = MyObject()"
   ]
  },
  {
   "cell_type": "code",
   "execution_count": 7,
   "id": "a4cec3cb",
   "metadata": {},
   "outputs": [
    {
     "data": {
      "text/plain": [
       "('unnamed', 0)"
      ]
     },
     "execution_count": 7,
     "metadata": {},
     "output_type": "execute_result"
    }
   ],
   "source": [
    "my_obj.name, my_obj.age"
   ]
  },
  {
   "cell_type": "code",
   "execution_count": 8,
   "id": "19ceda50",
   "metadata": {},
   "outputs": [],
   "source": [
    "my_obj.name = 'Bob'\n",
    "my_obj.age = 47"
   ]
  },
  {
   "cell_type": "code",
   "execution_count": 9,
   "id": "c87250ec",
   "metadata": {},
   "outputs": [
    {
     "name": "stdout",
     "output_type": "stream",
     "text": [
      "Hello, my name is Bob and I am 47 years old\n"
     ]
    }
   ],
   "source": [
    "print('Hello, my name is', my_obj.name, 'and I am', my_obj.age, 'years old')"
   ]
  },
  {
   "cell_type": "code",
   "execution_count": 10,
   "id": "240ac5d7",
   "metadata": {},
   "outputs": [],
   "source": [
    "my_obj.name = 'Linda'\n",
    "my_obj.age = 45"
   ]
  },
  {
   "cell_type": "code",
   "execution_count": 11,
   "id": "d778d99d",
   "metadata": {},
   "outputs": [
    {
     "name": "stdout",
     "output_type": "stream",
     "text": [
      "Hello, my name is Linda and I am 45 years old\n"
     ]
    }
   ],
   "source": [
    "print('Hello, my name is', my_obj.name, 'and I am', my_obj.age, 'years old')"
   ]
  },
  {
   "cell_type": "code",
   "execution_count": 12,
   "id": "ad3ed4a5",
   "metadata": {},
   "outputs": [],
   "source": [
    "import traitlets"
   ]
  },
  {
   "cell_type": "code",
   "execution_count": 13,
   "id": "6c732319",
   "metadata": {},
   "outputs": [],
   "source": [
    "# class MyObject():\n",
    "#     name = 'unnamed'\n",
    "#     age = 0\n",
    "\n",
    "class MyTraitletObject(traitlets.HasTraits):\n",
    "    name = traitlets.Unicode('unnamed') # fancy of saying formatting string\n",
    "    age = traitlets.Int(0) # similar to age = 0, but fancy"
   ]
  },
  {
   "cell_type": "code",
   "execution_count": 14,
   "id": "fee8427d",
   "metadata": {},
   "outputs": [],
   "source": [
    "my_t_obj = MyTraitletObject()\n",
    "my_t_obj.name = 'Bob'\n",
    "my_t_obj.age = 47"
   ]
  },
  {
   "cell_type": "code",
   "execution_count": 15,
   "id": "2b65817c",
   "metadata": {},
   "outputs": [
    {
     "data": {
      "text/plain": [
       "('Bob', 47)"
      ]
     },
     "execution_count": 15,
     "metadata": {},
     "output_type": "execute_result"
    }
   ],
   "source": [
    "my_t_obj.name, my_t_obj.age"
   ]
  },
  {
   "cell_type": "code",
   "execution_count": 16,
   "id": "3f417965",
   "metadata": {},
   "outputs": [
    {
     "name": "stdout",
     "output_type": "stream",
     "text": [
      "Hello, my name is Bob and I am 47 years old\n"
     ]
    }
   ],
   "source": [
    "print('Hello, my name is', my_t_obj.name, 'and I am', my_t_obj.age, 'years old')"
   ]
  },
  {
   "cell_type": "code",
   "execution_count": 17,
   "id": "601c2dca",
   "metadata": {},
   "outputs": [],
   "source": [
    "def name_changed(change):\n",
    "    print(change)\n",
    "    \n",
    "my_t_obj.observe(name_changed, ['name'])"
   ]
  },
  {
   "cell_type": "code",
   "execution_count": 18,
   "id": "37963c04",
   "metadata": {},
   "outputs": [
    {
     "name": "stdout",
     "output_type": "stream",
     "text": [
      "{'name': 'name', 'old': 'Bob', 'new': 'Linda', 'owner': <__main__.MyTraitletObject object at 0x7fe7f80deb20>, 'type': 'change'}\n"
     ]
    }
   ],
   "source": [
    "my_t_obj.name = 'Linda'"
   ]
  },
  {
   "cell_type": "code",
   "execution_count": 19,
   "id": "308a4b9e",
   "metadata": {},
   "outputs": [],
   "source": [
    "def name_changed2(change):\n",
    "    print('Hello, my name is', change['new'], 'and I am', \n",
    "          change['owner'].age, 'years old')\n",
    "    \n",
    "my_t_obj.observe(name_changed2, ['name'])"
   ]
  },
  {
   "cell_type": "code",
   "execution_count": 20,
   "id": "6ca3f9b4",
   "metadata": {},
   "outputs": [
    {
     "name": "stdout",
     "output_type": "stream",
     "text": [
      "{'name': 'name', 'old': 'Linda', 'new': 'Bob', 'owner': <__main__.MyTraitletObject object at 0x7fe7f80deb20>, 'type': 'change'}\n",
      "Hello, my name is Bob and I am 47 years old\n"
     ]
    }
   ],
   "source": [
    "my_t_obj.name = 'Bob'"
   ]
  },
  {
   "cell_type": "code",
   "execution_count": 21,
   "id": "9fdaef17",
   "metadata": {},
   "outputs": [],
   "source": [
    "my_t_obj.unobserve(name_changed, ['name'])"
   ]
  },
  {
   "cell_type": "code",
   "execution_count": 22,
   "id": "336c4dfa",
   "metadata": {},
   "outputs": [
    {
     "name": "stdout",
     "output_type": "stream",
     "text": [
      "Hello, my name is Linda and I am 47 years old\n"
     ]
    }
   ],
   "source": [
    "my_t_obj.name = 'Linda'"
   ]
  },
  {
   "cell_type": "code",
   "execution_count": 23,
   "id": "a515f75b",
   "metadata": {},
   "outputs": [],
   "source": [
    "def age_changed(change):\n",
    "    print('Hello, my name is', change['owner'].name, 'and I am', \n",
    "         change['new'], 'years old')\n",
    "my_t_obj.observe(age_changed, ['age'])"
   ]
  },
  {
   "cell_type": "code",
   "execution_count": 24,
   "id": "326885f4",
   "metadata": {},
   "outputs": [
    {
     "name": "stdout",
     "output_type": "stream",
     "text": [
      "Hello, my name is Linda and I am 45 years old\n"
     ]
    }
   ],
   "source": [
    "my_t_obj.age = 45"
   ]
  },
  {
   "cell_type": "code",
   "execution_count": 25,
   "id": "cfab23ec",
   "metadata": {},
   "outputs": [
    {
     "name": "stdout",
     "output_type": "stream",
     "text": [
      "Hello, my name is Louise and I am 45 years old\n"
     ]
    }
   ],
   "source": [
    "my_t_obj.name, my_t_age = 'Louise', 8"
   ]
  },
  {
   "cell_type": "markdown",
   "id": "cfbf0cf5",
   "metadata": {},
   "source": [
    "## Onto bqplot!"
   ]
  },
  {
   "cell_type": "code",
   "execution_count": 1,
   "id": "cbed6b88",
   "metadata": {},
   "outputs": [],
   "source": [
    "import bqplot\n",
    "import numpy as np"
   ]
  },
  {
   "cell_type": "markdown",
   "id": "9f3ea8ea",
   "metadata": {},
   "source": [
    "**Step 1: Data**"
   ]
  },
  {
   "cell_type": "code",
   "execution_count": 27,
   "id": "dff68494",
   "metadata": {},
   "outputs": [],
   "source": [
    "x = np.arange(100)"
   ]
  },
  {
   "cell_type": "code",
   "execution_count": 28,
   "id": "c4de2d7d",
   "metadata": {},
   "outputs": [
    {
     "data": {
      "text/plain": [
       "array([ 0,  1,  2,  3,  4,  5,  6,  7,  8,  9, 10, 11, 12, 13, 14, 15, 16,\n",
       "       17, 18, 19, 20, 21, 22, 23, 24, 25, 26, 27, 28, 29, 30, 31, 32, 33,\n",
       "       34, 35, 36, 37, 38, 39, 40, 41, 42, 43, 44, 45, 46, 47, 48, 49, 50,\n",
       "       51, 52, 53, 54, 55, 56, 57, 58, 59, 60, 61, 62, 63, 64, 65, 66, 67,\n",
       "       68, 69, 70, 71, 72, 73, 74, 75, 76, 77, 78, 79, 80, 81, 82, 83, 84,\n",
       "       85, 86, 87, 88, 89, 90, 91, 92, 93, 94, 95, 96, 97, 98, 99])"
      ]
     },
     "execution_count": 28,
     "metadata": {},
     "output_type": "execute_result"
    }
   ],
   "source": [
    "x"
   ]
  },
  {
   "cell_type": "code",
   "execution_count": 29,
   "id": "49046ce7",
   "metadata": {},
   "outputs": [],
   "source": [
    "y = np.random.random(100)"
   ]
  },
  {
   "cell_type": "code",
   "execution_count": 30,
   "id": "624f0db7",
   "metadata": {},
   "outputs": [
    {
     "data": {
      "text/plain": [
       "array([1.62381502e-01, 8.97002548e-01, 2.32082665e-01, 3.27385341e-01,\n",
       "       9.68703600e-01, 7.39343437e-01, 8.71832811e-01, 4.75900007e-01,\n",
       "       8.60471850e-01, 4.13857104e-01, 5.02701892e-01, 1.78266706e-01,\n",
       "       1.36666780e-01, 3.68426910e-01, 7.52099702e-01, 4.60926320e-01,\n",
       "       8.94230925e-01, 4.45056535e-01, 3.37995064e-01, 2.70542989e-01,\n",
       "       2.71781363e-01, 8.47604982e-01, 5.99005770e-01, 5.19918242e-01,\n",
       "       2.55207527e-01, 6.83709803e-01, 7.90210712e-01, 8.32889680e-01,\n",
       "       4.49724777e-02, 4.68057151e-01, 8.88741971e-01, 5.23616689e-01,\n",
       "       8.62514296e-01, 1.14652301e-01, 8.48313912e-01, 7.10712158e-01,\n",
       "       8.65235264e-01, 2.09059134e-01, 4.19479230e-01, 7.35474041e-02,\n",
       "       3.37295409e-01, 3.99625648e-01, 4.65996295e-01, 1.94888287e-01,\n",
       "       6.18194222e-01, 6.99414556e-01, 3.51456830e-01, 6.21899385e-02,\n",
       "       4.96684901e-01, 8.19784357e-01, 3.15276332e-01, 2.85879136e-01,\n",
       "       8.90344097e-01, 2.70922121e-01, 1.58971922e-01, 6.21419696e-01,\n",
       "       1.60030376e-02, 2.84460556e-01, 8.77469528e-01, 2.51337954e-01,\n",
       "       8.13347693e-01, 3.22366103e-01, 1.57366364e-01, 9.42462696e-01,\n",
       "       8.43262394e-01, 6.57607372e-01, 9.05361900e-01, 1.02293397e-01,\n",
       "       8.91076551e-01, 4.91576945e-01, 2.07952813e-01, 2.23904094e-01,\n",
       "       9.46186498e-01, 5.98666708e-01, 7.68179748e-05, 1.75500412e-01,\n",
       "       2.44831990e-01, 4.58442358e-01, 7.94381802e-01, 3.67272814e-02,\n",
       "       6.07004980e-01, 4.67371243e-01, 4.59202394e-01, 7.31175766e-01,\n",
       "       4.36456426e-01, 5.37308125e-01, 6.52533816e-02, 8.77145067e-01,\n",
       "       9.94079802e-01, 2.80373031e-01, 5.54490775e-01, 6.02077439e-01,\n",
       "       6.83824828e-01, 5.96358817e-02, 3.25458224e-01, 1.20691746e-01,\n",
       "       1.46289875e-01, 2.85066471e-01, 7.83468355e-01, 7.46243795e-01])"
      ]
     },
     "execution_count": 30,
     "metadata": {},
     "output_type": "execute_result"
    }
   ],
   "source": [
    "y"
   ]
  },
  {
   "cell_type": "markdown",
   "id": "910e20c3",
   "metadata": {},
   "source": [
    "**Step 2: Scales**"
   ]
  },
  {
   "cell_type": "code",
   "execution_count": 31,
   "id": "8b33b3e1",
   "metadata": {},
   "outputs": [],
   "source": [
    "bqplot.LinearScale?"
   ]
  },
  {
   "cell_type": "code",
   "execution_count": 32,
   "id": "ad3647e7",
   "metadata": {},
   "outputs": [],
   "source": [
    "x_sc = bqplot.LinearScale()\n",
    "y_sc = bqplot.LinearScale()"
   ]
  },
  {
   "cell_type": "markdown",
   "id": "fb3c88e5",
   "metadata": {},
   "source": [
    "**Step 3: Marks**"
   ]
  },
  {
   "cell_type": "code",
   "execution_count": 33,
   "id": "c22a6344",
   "metadata": {},
   "outputs": [],
   "source": [
    "bqplot.Lines?"
   ]
  },
  {
   "cell_type": "code",
   "execution_count": 34,
   "id": "b08f070f",
   "metadata": {},
   "outputs": [],
   "source": [
    "lines = bqplot.Lines(x=x, y=y,\n",
    "                    scales={'x':x_sc, 'y':y_sc})"
   ]
  },
  {
   "cell_type": "markdown",
   "id": "c955614a",
   "metadata": {},
   "source": [
    "**Step 4 (though sometimes this is step 3!): Axis**"
   ]
  },
  {
   "cell_type": "code",
   "execution_count": 35,
   "id": "545e38d6",
   "metadata": {},
   "outputs": [],
   "source": [
    "bqplot.Axis?"
   ]
  },
  {
   "cell_type": "code",
   "execution_count": 36,
   "id": "f2f29892",
   "metadata": {},
   "outputs": [],
   "source": [
    "ax_x = bqplot.Axis(scale=x_sc, label='X Value')\n",
    "ax_y = bqplot.Axis(scale=y_sc, label='Y Value', orientation='vertical')"
   ]
  },
  {
   "cell_type": "markdown",
   "id": "d94b9dbd",
   "metadata": {},
   "source": [
    "**Step 5: Figure (here-ish is where any interactivity would be)**"
   ]
  },
  {
   "cell_type": "code",
   "execution_count": 37,
   "id": "0b665f1c",
   "metadata": {},
   "outputs": [],
   "source": [
    "bqplot.Figure?"
   ]
  },
  {
   "cell_type": "code",
   "execution_count": 38,
   "id": "9d184afb",
   "metadata": {},
   "outputs": [],
   "source": [
    "fig = bqplot.Figure(marks=[lines], axes=[ax_x, ax_y])\n",
    "fig"
   ]
  },
  {
   "cell_type": "code",
   "execution_count": 39,
   "id": "8998da15",
   "metadata": {},
   "outputs": [],
   "source": [
    "bqplot.interacts?"
   ]
  },
  {
   "cell_type": "code",
   "execution_count": 40,
   "id": "5b43b45c",
   "metadata": {},
   "outputs": [],
   "source": [
    "bqplot.interacts.PanZoom?"
   ]
  },
  {
   "cell_type": "code",
   "execution_count": 41,
   "id": "45d5d561",
   "metadata": {},
   "outputs": [],
   "source": [
    "pz = bqplot.interacts.PanZoom(scales={'x':[x_sc], 'y':[y_sc]})"
   ]
  },
  {
   "cell_type": "code",
   "execution_count": 42,
   "id": "da8507b7",
   "metadata": {},
   "outputs": [],
   "source": [
    "fig = bqplot.Figure(marks=[lines], axes=[ax_x, ax_y], interaction = pz)\n",
    "fig"
   ]
  },
  {
   "cell_type": "markdown",
   "id": "4acdf107",
   "metadata": {},
   "source": [
    "### Scatter plot with random data and point selection (brush selection)"
   ]
  },
  {
   "cell_type": "code",
   "execution_count": 2,
   "id": "4b4f5094",
   "metadata": {},
   "outputs": [],
   "source": [
    "# 1. Data\n",
    "x = np.random.random(100)\n",
    "y = np.random.random(100)"
   ]
  },
  {
   "cell_type": "code",
   "execution_count": 6,
   "id": "a594d9e1",
   "metadata": {},
   "outputs": [],
   "source": [
    "# 2. scales\n",
    "x_sc = bqplot.LinearScale()\n",
    "y_sc = bqplot.LinearScale()"
   ]
  },
  {
   "cell_type": "code",
   "execution_count": 7,
   "id": "ded3e49d",
   "metadata": {},
   "outputs": [],
   "source": [
    "# 3. axis\n",
    "x_ax = bqplot.Axis(scale=x_sc, label='X')\n",
    "y_ax = bqplot.Axis(scale=y_sc, label = 'Y', orientation='vertical')"
   ]
  },
  {
   "cell_type": "code",
   "execution_count": 8,
   "id": "32b8dc9f",
   "metadata": {},
   "outputs": [],
   "source": [
    "bqplot.Scatter?"
   ]
  },
  {
   "cell_type": "code",
   "execution_count": 9,
   "id": "83522139",
   "metadata": {},
   "outputs": [],
   "source": [
    "# 4. marks (Scatter)\n",
    "scatters = bqplot.Scatter(x=x, y=y, scales={'x':x_sc, 'y':y_sc})"
   ]
  },
  {
   "cell_type": "code",
   "execution_count": 11,
   "id": "b317dffb",
   "metadata": {},
   "outputs": [],
   "source": [
    "# ESC+a for insert above\n",
    "bqplot.interacts.FastIntervalSelector?"
   ]
  },
  {
   "cell_type": "code",
   "execution_count": 12,
   "id": "6867f7a9",
   "metadata": {},
   "outputs": [],
   "source": [
    "# 5. interaction\n",
    "selector = bqplot.interacts.FastIntervalSelector(scale=x_sc, marks = [scatters])"
   ]
  },
  {
   "cell_type": "code",
   "execution_count": 14,
   "id": "cf940878",
   "metadata": {},
   "outputs": [
    {
     "data": {
      "application/vnd.jupyter.widget-view+json": {
       "model_id": "087712a2246747f09ce2e984b8986a32",
       "version_major": 2,
       "version_minor": 0
      },
      "text/plain": [
       "Figure(axes=[Axis(label='X', scale=LinearScale(), side='bottom'), Axis(label='Y', orientation='vertical', scal…"
      ]
     },
     "metadata": {},
     "output_type": "display_data"
    }
   ],
   "source": [
    "fig = bqplot.Figure(marks=[scatters], axes=[x_ax, y_ax], interaction=selector)\n",
    "fig"
   ]
  },
  {
   "cell_type": "code",
   "execution_count": 16,
   "id": "bb3ca995",
   "metadata": {},
   "outputs": [
    {
     "data": {
      "text/plain": [
       "array([-0.0005307 ,  0.20030176])"
      ]
     },
     "execution_count": 16,
     "metadata": {},
     "output_type": "execute_result"
    }
   ],
   "source": [
    "selector.selected"
   ]
  },
  {
   "cell_type": "code",
   "execution_count": 18,
   "id": "75c0221e",
   "metadata": {},
   "outputs": [],
   "source": [
    "scatters.unselected_style = {'opacity':0.8} # unselected, a little see-through\n",
    "scatters.selected_style = {'fill':'red', 'stroke':'yellow'}"
   ]
  },
  {
   "cell_type": "markdown",
   "id": "ec0e021b",
   "metadata": {},
   "source": [
    "## Heatmap in 2D"
   ]
  },
  {
   "cell_type": "code",
   "execution_count": 19,
   "id": "34751db8",
   "metadata": {},
   "outputs": [],
   "source": [
    "# 1. Data\n",
    "data = np.random.random((10,10))"
   ]
  },
  {
   "cell_type": "code",
   "execution_count": 22,
   "id": "10a9f7fa",
   "metadata": {},
   "outputs": [],
   "source": [
    "bqplot.ColorScale?"
   ]
  },
  {
   "cell_type": "code",
   "execution_count": 23,
   "id": "0ae6b50d",
   "metadata": {},
   "outputs": [
    {
     "data": {
      "application/vnd.jupyter.widget-view+json": {
       "model_id": "3d4ea08c642e4f84861d47511ebf09dd",
       "version_major": 2,
       "version_minor": 0
      },
      "text/plain": [
       "Figure(fig_margin={'top': 60, 'bottom': 60, 'left': 60, 'right': 60}, marks=[GridHeatMap(color=array([[0.70038…"
      ]
     },
     "metadata": {},
     "output_type": "display_data"
    }
   ],
   "source": [
    "# 2. Scales (just with color scale)\n",
    "col_sc = bqplot.ColorScale()\n",
    "\n",
    "# 3. Axis (skip)\n",
    "\n",
    "# 4. Mark\n",
    "heat_map = bqplot.GridHeatMap(color=data, scales = {'color':col_sc})\n",
    "\n",
    "# 5. interactivity (skip)\n",
    "\n",
    "# 6. finally, a figure\n",
    "fig = bqplot.Figure(marks=[heat_map])\n",
    "fig"
   ]
  },
  {
   "cell_type": "code",
   "execution_count": 24,
   "id": "de2d7890",
   "metadata": {},
   "outputs": [],
   "source": [
    "bqplot.GridHeatMap?"
   ]
  },
  {
   "cell_type": "code",
   "execution_count": 25,
   "id": "d1f751cf",
   "metadata": {},
   "outputs": [
    {
     "data": {
      "application/vnd.jupyter.widget-view+json": {
       "model_id": "8b80677be6ee48489b07767589f9b284",
       "version_major": 2,
       "version_minor": 0
      },
      "text/plain": [
       "Figure(fig_margin={'top': 60, 'bottom': 60, 'left': 60, 'right': 60}, marks=[GridHeatMap(color=array([[0.70038…"
      ]
     },
     "metadata": {},
     "output_type": "display_data"
    }
   ],
   "source": [
    "# 2. Scales (just with color scale)\n",
    "col_sc = bqplot.ColorScale(scheme='Blues')\n",
    "\n",
    "# 3. Axis (skip)\n",
    "\n",
    "# 4. Mark\n",
    "heat_map = bqplot.GridHeatMap(color=data, scales = {'color':col_sc})\n",
    "\n",
    "# 5. interactivity (skip)\n",
    "\n",
    "# 6. finally, a figure\n",
    "fig = bqplot.Figure(marks=[heat_map])\n",
    "fig"
   ]
  },
  {
   "cell_type": "code",
   "execution_count": 26,
   "id": "3ebe7f1f",
   "metadata": {},
   "outputs": [],
   "source": [
    "bqplot.ColorAxis?"
   ]
  },
  {
   "cell_type": "code",
   "execution_count": 27,
   "id": "af7993ae",
   "metadata": {},
   "outputs": [
    {
     "data": {
      "application/vnd.jupyter.widget-view+json": {
       "model_id": "4595d8079f3f4e7cbb3d92fcdb0d9cf4",
       "version_major": 2,
       "version_minor": 0
      },
      "text/plain": [
       "Figure(axes=[ColorAxis(orientation='vertical', scale=ColorScale(scheme='Blues'), side='right')], fig_margin={'…"
      ]
     },
     "metadata": {},
     "output_type": "display_data"
    }
   ],
   "source": [
    "# 2. Scales (just with color scale)\n",
    "col_sc = bqplot.ColorScale(scheme='Blues')\n",
    "\n",
    "# 3. Axis \n",
    "col_ax = bqplot.ColorAxis(scale=col_sc, orientation='vertical', side='right')\n",
    "\n",
    "# 4. Mark\n",
    "heat_map = bqplot.GridHeatMap(color=data, scales = {'color':col_sc})\n",
    "\n",
    "# 5. interactivity (skip)\n",
    "\n",
    "# 6. finally, a figure\n",
    "fig = bqplot.Figure(marks=[heat_map], axes=[col_ax])\n",
    "fig"
   ]
  },
  {
   "cell_type": "code",
   "execution_count": 28,
   "id": "5d7f133e",
   "metadata": {},
   "outputs": [
    {
     "data": {
      "application/vnd.jupyter.widget-view+json": {
       "model_id": "67be90fdb28a48f5879dd6217b4a039f",
       "version_major": 2,
       "version_minor": 0
      },
      "text/plain": [
       "Figure(axes=[ColorAxis(orientation='vertical', scale=ColorScale(scheme='Blues'), side='right'), Axis(label='Co…"
      ]
     },
     "metadata": {},
     "output_type": "display_data"
    }
   ],
   "source": [
    "# 2. Scales \n",
    "col_sc = bqplot.ColorScale(scheme='Blues')\n",
    "x_sc = bqplot.OrdinalScale() # ordered bin numbers\n",
    "y_sc = bqplot.OrdinalScale()\n",
    "\n",
    "# 3. Axis \n",
    "col_ax = bqplot.ColorAxis(scale=col_sc, orientation='vertical', side='right')\n",
    "x_ax = bqplot.Axis(scale=x_sc, label='Column Bin')\n",
    "y_ax = bqplot.Axis(scale=y_sc, label='Row Bin', orientation='vertical')\n",
    "\n",
    "# 4. Mark\n",
    "heat_map = bqplot.GridHeatMap(color=data, scales = {'color':col_sc})\n",
    "\n",
    "# 5. interactivity (skip)\n",
    "\n",
    "# 6. finally, a figure\n",
    "fig = bqplot.Figure(marks=[heat_map], axes=[col_ax, x_ax, y_ax])\n",
    "fig"
   ]
  },
  {
   "cell_type": "code",
   "execution_count": null,
   "id": "2c885237",
   "metadata": {},
   "outputs": [],
   "source": [
    "# 2. Scales \n",
    "col_sc = bqplot.ColorScale(scheme='Blues')\n",
    "x_sc = bqplot.OrdinalScale() # ordered bin numbers\n",
    "y_sc = bqplot.OrdinalScale()\n",
    "\n",
    "# 3. Axis \n",
    "col_ax = bqplot.ColorAxis(scale=col_sc, orientation='vertical', side='right')\n",
    "x_ax = bqplot.Axis(scale=x_sc, label='Column Bin')\n",
    "y_ax = bqplot.Axis(scale=y_sc, label='Row Bin', orientation='vertical')\n",
    "\n",
    "# 4. Mark\n",
    "heat_map = bqplot.GridHeatMap(color=data, scales = {'color':col_sc,\n",
    "                                                   'row':y_sc})\n",
    "\n",
    "# 5. interactivity (skip)\n",
    "\n",
    "# 6. finally, a figure\n",
    "fig = bqplot.Figure(marks=[heat_map], axes=[col_ax, x_ax, y_ax])\n",
    "fig"
   ]
  }
 ],
 "metadata": {
  "kernelspec": {
   "display_name": "Python 3 (ipykernel)",
   "language": "python",
   "name": "python3"
  },
  "language_info": {
   "codemirror_mode": {
    "name": "ipython",
    "version": 3
   },
   "file_extension": ".py",
   "mimetype": "text/x-python",
   "name": "python",
   "nbconvert_exporter": "python",
   "pygments_lexer": "ipython3",
   "version": "3.8.17"
  }
 },
 "nbformat": 4,
 "nbformat_minor": 5
}
