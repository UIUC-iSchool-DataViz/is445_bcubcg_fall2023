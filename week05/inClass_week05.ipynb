{
 "cells": [
  {
   "cell_type": "markdown",
   "id": "respective-store",
   "metadata": {},
   "source": [
    "# In Class Notebook, Week 05"
   ]
  },
  {
   "cell_type": "markdown",
   "id": "2a597611",
   "metadata": {},
   "source": [
    "You can click on the GitHub URL of this notebook to access the file in near-real time: https://github.com/UIUC-iSchool-DataViz/is445_bcubcg_fall2023/blob/master/week05/inClass_week05.ipynb \n",
    "\n",
    "Or you can copy-paste into the nbviewer interface for a plain-text rendering:\n",
    "\n",
    "https://kokes.github.io/nbviewer.js/viewer.html"
   ]
  },
  {
   "cell_type": "code",
   "execution_count": 1,
   "id": "c0a0e450",
   "metadata": {},
   "outputs": [],
   "source": [
    "import ipywidgets"
   ]
  },
  {
   "cell_type": "code",
   "execution_count": 2,
   "id": "de0cce66",
   "metadata": {},
   "outputs": [
    {
     "data": {
      "application/vnd.jupyter.widget-view+json": {
       "model_id": "1df6ca9629e74f86b44906dafbb2ce17",
       "version_major": 2,
       "version_minor": 0
      },
      "text/plain": [
       "IntSlider(value=0, max=10, orientation='vertical')"
      ]
     },
     "metadata": {},
     "output_type": "display_data"
    }
   ],
   "source": [
    "islider = ipywidgets.IntSlider(min=0,max=10, step=1, orientation='vertical')\n",
    "islider"
   ]
  },
  {
   "cell_type": "code",
   "execution_count": 3,
   "id": "9c84ea8d",
   "metadata": {},
   "outputs": [
    {
     "data": {
      "application/vnd.jupyter.widget-view+json": {
       "model_id": "344c21a1953a459b982132c93eba6efe",
       "version_major": 2,
       "version_minor": 0
      },
      "text/plain": [
       "ColorPicker(value='black')"
      ]
     },
     "metadata": {},
     "output_type": "display_data"
    }
   ],
   "source": [
    "cp = ipywidgets.ColorPicker()\n",
    "cp"
   ]
  },
  {
   "cell_type": "code",
   "execution_count": 4,
   "id": "85f96f43",
   "metadata": {},
   "outputs": [
    {
     "data": {
      "text/plain": [
       "<traitlets.traitlets.link at 0x7fe828509340>"
      ]
     },
     "execution_count": 4,
     "metadata": {},
     "output_type": "execute_result"
    }
   ],
   "source": [
    "ipywidgets.link( (cp,'value'), (islider.style, 'handle_color'))"
   ]
  },
  {
   "cell_type": "code",
   "execution_count": 5,
   "id": "9a0a9e50",
   "metadata": {},
   "outputs": [],
   "source": [
    "class MyObject():\n",
    "    name = 'unnamed'\n",
    "    age = 0"
   ]
  },
  {
   "cell_type": "code",
   "execution_count": 6,
   "id": "92f25926",
   "metadata": {},
   "outputs": [],
   "source": [
    "my_obj = MyObject()"
   ]
  },
  {
   "cell_type": "code",
   "execution_count": 7,
   "id": "bf77b9eb",
   "metadata": {},
   "outputs": [
    {
     "data": {
      "text/plain": [
       "('unnamed', 0)"
      ]
     },
     "execution_count": 7,
     "metadata": {},
     "output_type": "execute_result"
    }
   ],
   "source": [
    "my_obj.name, my_obj.age"
   ]
  },
  {
   "cell_type": "code",
   "execution_count": 8,
   "id": "a2c7a9f1",
   "metadata": {},
   "outputs": [],
   "source": [
    "my_obj.name = 'Bob'\n",
    "my_obj.age = 47"
   ]
  },
  {
   "cell_type": "code",
   "execution_count": 9,
   "id": "95a1b023",
   "metadata": {},
   "outputs": [
    {
     "name": "stdout",
     "output_type": "stream",
     "text": [
      "Hello, my name is Bob and I am 47 years old\n"
     ]
    }
   ],
   "source": [
    "print('Hello, my name is', my_obj.name, 'and I am', my_obj.age, 'years old')"
   ]
  },
  {
   "cell_type": "code",
   "execution_count": 10,
   "id": "f1778f97",
   "metadata": {},
   "outputs": [],
   "source": [
    "my_obj.name = 'Linda'\n",
    "my_obj.age = 45"
   ]
  },
  {
   "cell_type": "code",
   "execution_count": 11,
   "id": "4de3a6c5",
   "metadata": {},
   "outputs": [
    {
     "name": "stdout",
     "output_type": "stream",
     "text": [
      "Hello, my name is Linda and I am 45 years old\n"
     ]
    }
   ],
   "source": [
    "print('Hello, my name is', my_obj.name, 'and I am', my_obj.age, 'years old')"
   ]
  },
  {
   "cell_type": "code",
   "execution_count": 12,
   "id": "9639b92f",
   "metadata": {},
   "outputs": [],
   "source": [
    "import traitlets"
   ]
  },
  {
   "cell_type": "code",
   "execution_count": 13,
   "id": "58ea325e",
   "metadata": {},
   "outputs": [],
   "source": [
    "# class MyObject():\n",
    "#     name = 'unnamed'\n",
    "#     age = 0\n",
    "\n",
    "class MyTraitletObject(traitlets.HasTraits):\n",
    "    name = traitlets.Unicode('unnamed') # fancy of saying formatting string\n",
    "    age = traitlets.Int(0) # similar to age = 0, but fancy"
   ]
  },
  {
   "cell_type": "code",
   "execution_count": 14,
   "id": "c0ea757e",
   "metadata": {},
   "outputs": [],
   "source": [
    "my_t_obj = MyTraitletObject()\n",
    "my_t_obj.name = 'Bob'\n",
    "my_t_obj.age = 47"
   ]
  },
  {
   "cell_type": "code",
   "execution_count": 15,
   "id": "afbb1393",
   "metadata": {},
   "outputs": [
    {
     "data": {
      "text/plain": [
       "('Bob', 47)"
      ]
     },
     "execution_count": 15,
     "metadata": {},
     "output_type": "execute_result"
    }
   ],
   "source": [
    "my_t_obj.name, my_t_obj.age"
   ]
  },
  {
   "cell_type": "code",
   "execution_count": 16,
   "id": "38cd8a16",
   "metadata": {},
   "outputs": [
    {
     "name": "stdout",
     "output_type": "stream",
     "text": [
      "Hello, my name is Bob and I am 47 years old\n"
     ]
    }
   ],
   "source": [
    "print('Hello, my name is', my_t_obj.name, 'and I am', my_t_obj.age, 'years old')"
   ]
  },
  {
   "cell_type": "code",
   "execution_count": 17,
   "id": "896a2da0",
   "metadata": {},
   "outputs": [],
   "source": [
    "def name_changed(change):\n",
    "    print(change)\n",
    "    \n",
    "my_t_obj.observe(name_changed, ['name'])"
   ]
  },
  {
   "cell_type": "code",
   "execution_count": 18,
   "id": "e9627da3",
   "metadata": {},
   "outputs": [
    {
     "name": "stdout",
     "output_type": "stream",
     "text": [
      "{'name': 'name', 'old': 'Bob', 'new': 'Linda', 'owner': <__main__.MyTraitletObject object at 0x7fe7f80deb20>, 'type': 'change'}\n"
     ]
    }
   ],
   "source": [
    "my_t_obj.name = 'Linda'"
   ]
  },
  {
   "cell_type": "code",
   "execution_count": 19,
   "id": "b19b3492",
   "metadata": {},
   "outputs": [],
   "source": [
    "def name_changed2(change):\n",
    "    print('Hello, my name is', change['new'], 'and I am', \n",
    "          change['owner'].age, 'years old')\n",
    "    \n",
    "my_t_obj.observe(name_changed2, ['name'])"
   ]
  },
  {
   "cell_type": "code",
   "execution_count": 20,
   "id": "cbae6193",
   "metadata": {},
   "outputs": [
    {
     "name": "stdout",
     "output_type": "stream",
     "text": [
      "{'name': 'name', 'old': 'Linda', 'new': 'Bob', 'owner': <__main__.MyTraitletObject object at 0x7fe7f80deb20>, 'type': 'change'}\n",
      "Hello, my name is Bob and I am 47 years old\n"
     ]
    }
   ],
   "source": [
    "my_t_obj.name = 'Bob'"
   ]
  },
  {
   "cell_type": "code",
   "execution_count": 21,
   "id": "7883f33b",
   "metadata": {},
   "outputs": [],
   "source": [
    "my_t_obj.unobserve(name_changed, ['name'])"
   ]
  },
  {
   "cell_type": "code",
   "execution_count": 22,
   "id": "47107577",
   "metadata": {},
   "outputs": [
    {
     "name": "stdout",
     "output_type": "stream",
     "text": [
      "Hello, my name is Linda and I am 47 years old\n"
     ]
    }
   ],
   "source": [
    "my_t_obj.name = 'Linda'"
   ]
  },
  {
   "cell_type": "code",
   "execution_count": 23,
   "id": "cbd930a3",
   "metadata": {},
   "outputs": [],
   "source": [
    "def age_changed(change):\n",
    "    print('Hello, my name is', change['owner'].name, 'and I am', \n",
    "         change['new'], 'years old')\n",
    "my_t_obj.observe(age_changed, ['age'])"
   ]
  },
  {
   "cell_type": "code",
   "execution_count": 24,
   "id": "6ef7e2df",
   "metadata": {},
   "outputs": [
    {
     "name": "stdout",
     "output_type": "stream",
     "text": [
      "Hello, my name is Linda and I am 45 years old\n"
     ]
    }
   ],
   "source": [
    "my_t_obj.age = 45"
   ]
  },
  {
   "cell_type": "code",
   "execution_count": 25,
   "id": "74a9804a",
   "metadata": {},
   "outputs": [
    {
     "name": "stdout",
     "output_type": "stream",
     "text": [
      "Hello, my name is Louise and I am 45 years old\n"
     ]
    }
   ],
   "source": [
    "my_t_obj.name, my_t_age = 'Louise', 8"
   ]
  },
  {
   "cell_type": "markdown",
   "id": "3f8e6755",
   "metadata": {},
   "source": [
    "## Onto bqplot!"
   ]
  },
  {
   "cell_type": "code",
   "execution_count": 1,
   "id": "24c2eb06",
   "metadata": {},
   "outputs": [],
   "source": [
    "import bqplot\n",
    "import numpy as np"
   ]
  },
  {
   "cell_type": "markdown",
   "id": "c477fd13",
   "metadata": {},
   "source": [
    "**Step 1: Data**"
   ]
  },
  {
   "cell_type": "code",
   "execution_count": 27,
   "id": "4c1fc873",
   "metadata": {},
   "outputs": [],
   "source": [
    "x = np.arange(100)"
   ]
  },
  {
   "cell_type": "code",
   "execution_count": 28,
   "id": "2373ac03",
   "metadata": {},
   "outputs": [
    {
     "data": {
      "text/plain": [
       "array([ 0,  1,  2,  3,  4,  5,  6,  7,  8,  9, 10, 11, 12, 13, 14, 15, 16,\n",
       "       17, 18, 19, 20, 21, 22, 23, 24, 25, 26, 27, 28, 29, 30, 31, 32, 33,\n",
       "       34, 35, 36, 37, 38, 39, 40, 41, 42, 43, 44, 45, 46, 47, 48, 49, 50,\n",
       "       51, 52, 53, 54, 55, 56, 57, 58, 59, 60, 61, 62, 63, 64, 65, 66, 67,\n",
       "       68, 69, 70, 71, 72, 73, 74, 75, 76, 77, 78, 79, 80, 81, 82, 83, 84,\n",
       "       85, 86, 87, 88, 89, 90, 91, 92, 93, 94, 95, 96, 97, 98, 99])"
      ]
     },
     "execution_count": 28,
     "metadata": {},
     "output_type": "execute_result"
    }
   ],
   "source": [
    "x"
   ]
  },
  {
   "cell_type": "code",
   "execution_count": 29,
   "id": "1502d178",
   "metadata": {},
   "outputs": [],
   "source": [
    "y = np.random.random(100)"
   ]
  },
  {
   "cell_type": "code",
   "execution_count": 30,
   "id": "6ef9169d",
   "metadata": {},
   "outputs": [
    {
     "data": {
      "text/plain": [
       "array([1.62381502e-01, 8.97002548e-01, 2.32082665e-01, 3.27385341e-01,\n",
       "       9.68703600e-01, 7.39343437e-01, 8.71832811e-01, 4.75900007e-01,\n",
       "       8.60471850e-01, 4.13857104e-01, 5.02701892e-01, 1.78266706e-01,\n",
       "       1.36666780e-01, 3.68426910e-01, 7.52099702e-01, 4.60926320e-01,\n",
       "       8.94230925e-01, 4.45056535e-01, 3.37995064e-01, 2.70542989e-01,\n",
       "       2.71781363e-01, 8.47604982e-01, 5.99005770e-01, 5.19918242e-01,\n",
       "       2.55207527e-01, 6.83709803e-01, 7.90210712e-01, 8.32889680e-01,\n",
       "       4.49724777e-02, 4.68057151e-01, 8.88741971e-01, 5.23616689e-01,\n",
       "       8.62514296e-01, 1.14652301e-01, 8.48313912e-01, 7.10712158e-01,\n",
       "       8.65235264e-01, 2.09059134e-01, 4.19479230e-01, 7.35474041e-02,\n",
       "       3.37295409e-01, 3.99625648e-01, 4.65996295e-01, 1.94888287e-01,\n",
       "       6.18194222e-01, 6.99414556e-01, 3.51456830e-01, 6.21899385e-02,\n",
       "       4.96684901e-01, 8.19784357e-01, 3.15276332e-01, 2.85879136e-01,\n",
       "       8.90344097e-01, 2.70922121e-01, 1.58971922e-01, 6.21419696e-01,\n",
       "       1.60030376e-02, 2.84460556e-01, 8.77469528e-01, 2.51337954e-01,\n",
       "       8.13347693e-01, 3.22366103e-01, 1.57366364e-01, 9.42462696e-01,\n",
       "       8.43262394e-01, 6.57607372e-01, 9.05361900e-01, 1.02293397e-01,\n",
       "       8.91076551e-01, 4.91576945e-01, 2.07952813e-01, 2.23904094e-01,\n",
       "       9.46186498e-01, 5.98666708e-01, 7.68179748e-05, 1.75500412e-01,\n",
       "       2.44831990e-01, 4.58442358e-01, 7.94381802e-01, 3.67272814e-02,\n",
       "       6.07004980e-01, 4.67371243e-01, 4.59202394e-01, 7.31175766e-01,\n",
       "       4.36456426e-01, 5.37308125e-01, 6.52533816e-02, 8.77145067e-01,\n",
       "       9.94079802e-01, 2.80373031e-01, 5.54490775e-01, 6.02077439e-01,\n",
       "       6.83824828e-01, 5.96358817e-02, 3.25458224e-01, 1.20691746e-01,\n",
       "       1.46289875e-01, 2.85066471e-01, 7.83468355e-01, 7.46243795e-01])"
      ]
     },
     "execution_count": 30,
     "metadata": {},
     "output_type": "execute_result"
    }
   ],
   "source": [
    "y"
   ]
  },
  {
   "cell_type": "markdown",
   "id": "68194705",
   "metadata": {},
   "source": [
    "**Step 2: Scales**"
   ]
  },
  {
   "cell_type": "code",
   "execution_count": 31,
   "id": "b40a1aee",
   "metadata": {},
   "outputs": [],
   "source": [
    "bqplot.LinearScale?"
   ]
  },
  {
   "cell_type": "code",
   "execution_count": 32,
   "id": "7b8d100b",
   "metadata": {},
   "outputs": [],
   "source": [
    "x_sc = bqplot.LinearScale()\n",
    "y_sc = bqplot.LinearScale()"
   ]
  },
  {
   "cell_type": "markdown",
   "id": "580d344d",
   "metadata": {},
   "source": [
    "**Step 3: Marks**"
   ]
  },
  {
   "cell_type": "code",
   "execution_count": 33,
   "id": "5620009c",
   "metadata": {},
   "outputs": [],
   "source": [
    "bqplot.Lines?"
   ]
  },
  {
   "cell_type": "code",
   "execution_count": 34,
   "id": "163cd630",
   "metadata": {},
   "outputs": [],
   "source": [
    "lines = bqplot.Lines(x=x, y=y,\n",
    "                    scales={'x':x_sc, 'y':y_sc})"
   ]
  },
  {
   "cell_type": "markdown",
   "id": "3de4c259",
   "metadata": {},
   "source": [
    "**Step 4 (though sometimes this is step 3!): Axis**"
   ]
  },
  {
   "cell_type": "code",
   "execution_count": 35,
   "id": "bb4a96e0",
   "metadata": {},
   "outputs": [],
   "source": [
    "bqplot.Axis?"
   ]
  },
  {
   "cell_type": "code",
   "execution_count": 36,
   "id": "481f9d3f",
   "metadata": {},
   "outputs": [],
   "source": [
    "ax_x = bqplot.Axis(scale=x_sc, label='X Value')\n",
    "ax_y = bqplot.Axis(scale=y_sc, label='Y Value', orientation='vertical')"
   ]
  },
  {
   "cell_type": "markdown",
   "id": "e6b1c1b6",
   "metadata": {},
   "source": [
    "**Step 5: Figure (here-ish is where any interactivity would be)**"
   ]
  },
  {
   "cell_type": "code",
   "execution_count": 37,
   "id": "5f8f13ea",
   "metadata": {},
   "outputs": [],
   "source": [
    "bqplot.Figure?"
   ]
  },
  {
   "cell_type": "code",
   "execution_count": 38,
   "id": "7e5abfd7",
   "metadata": {},
   "outputs": [],
   "source": [
    "fig = bqplot.Figure(marks=[lines], axes=[ax_x, ax_y])\n",
    "fig"
   ]
  },
  {
   "cell_type": "code",
   "execution_count": 39,
   "id": "a0f1f9c1",
   "metadata": {},
   "outputs": [],
   "source": [
    "bqplot.interacts?"
   ]
  },
  {
   "cell_type": "code",
   "execution_count": 40,
   "id": "45bf6e14",
   "metadata": {},
   "outputs": [],
   "source": [
    "bqplot.interacts.PanZoom?"
   ]
  },
  {
   "cell_type": "code",
   "execution_count": 41,
   "id": "e4380c9c",
   "metadata": {},
   "outputs": [],
   "source": [
    "pz = bqplot.interacts.PanZoom(scales={'x':[x_sc], 'y':[y_sc]})"
   ]
  },
  {
   "cell_type": "code",
   "execution_count": 42,
   "id": "7029532e",
   "metadata": {},
   "outputs": [],
   "source": [
    "fig = bqplot.Figure(marks=[lines], axes=[ax_x, ax_y], interaction = pz)\n",
    "fig"
   ]
  },
  {
   "cell_type": "markdown",
   "id": "9232dab5",
   "metadata": {},
   "source": [
    "### Scatter plot with random data and point selection (brush selection)"
   ]
  },
  {
   "cell_type": "code",
   "execution_count": 2,
   "id": "eb219b87",
   "metadata": {},
   "outputs": [],
   "source": [
    "# 1. Data\n",
    "x = np.random.random(100)\n",
    "y = np.random.random(100)"
   ]
  },
  {
   "cell_type": "code",
   "execution_count": 6,
   "id": "bb0f064b",
   "metadata": {},
   "outputs": [],
   "source": [
    "# 2. scales\n",
    "x_sc = bqplot.LinearScale()\n",
    "y_sc = bqplot.LinearScale()"
   ]
  },
  {
   "cell_type": "code",
   "execution_count": 7,
   "id": "3aa6d531",
   "metadata": {},
   "outputs": [],
   "source": [
    "# 3. axis\n",
    "x_ax = bqplot.Axis(scale=x_sc, label='X')\n",
    "y_ax = bqplot.Axis(scale=y_sc, label = 'Y', orientation='vertical')"
   ]
  },
  {
   "cell_type": "code",
   "execution_count": 8,
   "id": "097dbb5a",
   "metadata": {},
   "outputs": [],
   "source": [
    "bqplot.Scatter?"
   ]
  },
  {
   "cell_type": "code",
   "execution_count": 9,
   "id": "42924847",
   "metadata": {},
   "outputs": [],
   "source": [
    "# 4. marks (Scatter)\n",
    "scatters = bqplot.Scatter(x=x, y=y, scales={'x':x_sc, 'y':y_sc})"
   ]
  },
  {
   "cell_type": "code",
   "execution_count": 11,
   "id": "459d4c2e",
   "metadata": {},
   "outputs": [],
   "source": [
    "# ESC+a for insert above\n",
    "bqplot.interacts.FastIntervalSelector?"
   ]
  },
  {
   "cell_type": "code",
   "execution_count": 12,
   "id": "f0d5ba3d",
   "metadata": {},
   "outputs": [],
   "source": [
    "# 5. interaction\n",
    "selector = bqplot.interacts.FastIntervalSelector(scale=x_sc, marks = [scatters])"
   ]
  },
  {
   "cell_type": "code",
   "execution_count": 14,
   "id": "39a82b90",
   "metadata": {},
   "outputs": [
    {
     "data": {
      "application/vnd.jupyter.widget-view+json": {
       "model_id": "087712a2246747f09ce2e984b8986a32",
       "version_major": 2,
       "version_minor": 0
      },
      "text/plain": [
       "Figure(axes=[Axis(label='X', scale=LinearScale(), side='bottom'), Axis(label='Y', orientation='vertical', scal…"
      ]
     },
     "metadata": {},
     "output_type": "display_data"
    }
   ],
   "source": [
    "fig = bqplot.Figure(marks=[scatters], axes=[x_ax, y_ax], interaction=selector)\n",
    "fig"
   ]
  },
  {
   "cell_type": "code",
   "execution_count": 16,
   "id": "2c5356dc",
   "metadata": {},
   "outputs": [
    {
     "data": {
      "text/plain": [
       "array([-0.0005307 ,  0.20030176])"
      ]
     },
     "execution_count": 16,
     "metadata": {},
     "output_type": "execute_result"
    }
   ],
   "source": [
    "selector.selected"
   ]
  },
  {
   "cell_type": "code",
   "execution_count": 18,
   "id": "553421fd",
   "metadata": {},
   "outputs": [],
   "source": [
    "scatters.unselected_style = {'opacity':0.8} # unselected, a little see-through\n",
    "scatters.selected_style = {'fill':'red', 'stroke':'yellow'}"
   ]
  },
  {
   "cell_type": "markdown",
   "id": "5274e3da",
   "metadata": {},
   "source": [
    "## Heatmap in 2D"
   ]
  },
  {
   "cell_type": "code",
   "execution_count": 2,
   "id": "33cb93bb",
   "metadata": {},
   "outputs": [],
   "source": [
    "import bqplot\n",
    "import numpy as np"
   ]
  },
  {
   "cell_type": "code",
   "execution_count": 14,
   "id": "eb32faaf",
   "metadata": {},
   "outputs": [],
   "source": [
    "# 1. Data\n",
    "data = np.random.random((10,10))"
   ]
  },
  {
   "cell_type": "code",
   "execution_count": 22,
   "id": "a921d86a",
   "metadata": {},
   "outputs": [],
   "source": [
    "bqplot.ColorScale?"
   ]
  },
  {
   "cell_type": "code",
   "execution_count": 23,
   "id": "ad70c16f",
   "metadata": {},
   "outputs": [
    {
     "data": {
      "application/vnd.jupyter.widget-view+json": {
       "model_id": "3d4ea08c642e4f84861d47511ebf09dd",
       "version_major": 2,
       "version_minor": 0
      },
      "text/plain": [
       "Figure(fig_margin={'top': 60, 'bottom': 60, 'left': 60, 'right': 60}, marks=[GridHeatMap(color=array([[0.70038…"
      ]
     },
     "metadata": {},
     "output_type": "display_data"
    }
   ],
   "source": [
    "# 2. Scales (just with color scale)\n",
    "col_sc = bqplot.ColorScale()\n",
    "\n",
    "# 3. Axis (skip)\n",
    "\n",
    "# 4. Mark\n",
    "heat_map = bqplot.GridHeatMap(color=data, scales = {'color':col_sc})\n",
    "\n",
    "# 5. interactivity (skip)\n",
    "\n",
    "# 6. finally, a figure\n",
    "fig = bqplot.Figure(marks=[heat_map])\n",
    "fig"
   ]
  },
  {
   "cell_type": "code",
   "execution_count": 24,
   "id": "2b2d9cc6",
   "metadata": {},
   "outputs": [],
   "source": [
    "bqplot.GridHeatMap?"
   ]
  },
  {
   "cell_type": "code",
   "execution_count": 25,
   "id": "326eecb8",
   "metadata": {},
   "outputs": [
    {
     "data": {
      "application/vnd.jupyter.widget-view+json": {
       "model_id": "8b80677be6ee48489b07767589f9b284",
       "version_major": 2,
       "version_minor": 0
      },
      "text/plain": [
       "Figure(fig_margin={'top': 60, 'bottom': 60, 'left': 60, 'right': 60}, marks=[GridHeatMap(color=array([[0.70038…"
      ]
     },
     "metadata": {},
     "output_type": "display_data"
    }
   ],
   "source": [
    "# 2. Scales (just with color scale)\n",
    "col_sc = bqplot.ColorScale(scheme='Blues')\n",
    "\n",
    "# 3. Axis (skip)\n",
    "\n",
    "# 4. Mark\n",
    "heat_map = bqplot.GridHeatMap(color=data, scales = {'color':col_sc})\n",
    "\n",
    "# 5. interactivity (skip)\n",
    "\n",
    "# 6. finally, a figure\n",
    "fig = bqplot.Figure(marks=[heat_map])\n",
    "fig"
   ]
  },
  {
   "cell_type": "code",
   "execution_count": 26,
   "id": "2431e82c",
   "metadata": {},
   "outputs": [],
   "source": [
    "bqplot.ColorAxis?"
   ]
  },
  {
   "cell_type": "code",
   "execution_count": 27,
   "id": "78c9b002",
   "metadata": {},
   "outputs": [
    {
     "data": {
      "application/vnd.jupyter.widget-view+json": {
       "model_id": "4595d8079f3f4e7cbb3d92fcdb0d9cf4",
       "version_major": 2,
       "version_minor": 0
      },
      "text/plain": [
       "Figure(axes=[ColorAxis(orientation='vertical', scale=ColorScale(scheme='Blues'), side='right')], fig_margin={'…"
      ]
     },
     "metadata": {},
     "output_type": "display_data"
    },
    {
     "name": "stderr",
     "output_type": "stream",
     "text": [
      "No such comm: 526e3cad15804663852974ee8884db82\n",
      "No such comm: 526e3cad15804663852974ee8884db82\n",
      "No such comm: 526e3cad15804663852974ee8884db82\n",
      "No such comm: 526e3cad15804663852974ee8884db82\n",
      "No such comm: 526e3cad15804663852974ee8884db82\n"
     ]
    }
   ],
   "source": [
    "# 2. Scales (just with color scale)\n",
    "col_sc = bqplot.ColorScale(scheme='Blues')\n",
    "\n",
    "# 3. Axis \n",
    "col_ax = bqplot.ColorAxis(scale=col_sc, orientation='vertical', side='right')\n",
    "\n",
    "# 4. Mark\n",
    "heat_map = bqplot.GridHeatMap(color=data, scales = {'color':col_sc})\n",
    "\n",
    "# 5. interactivity (skip)\n",
    "\n",
    "# 6. finally, a figure\n",
    "fig = bqplot.Figure(marks=[heat_map], axes=[col_ax])\n",
    "fig"
   ]
  },
  {
   "cell_type": "code",
   "execution_count": 28,
   "id": "7a775321",
   "metadata": {},
   "outputs": [
    {
     "data": {
      "application/vnd.jupyter.widget-view+json": {
       "model_id": "67be90fdb28a48f5879dd6217b4a039f",
       "version_major": 2,
       "version_minor": 0
      },
      "text/plain": [
       "Figure(axes=[ColorAxis(orientation='vertical', scale=ColorScale(scheme='Blues'), side='right'), Axis(label='Co…"
      ]
     },
     "metadata": {},
     "output_type": "display_data"
    },
    {
     "name": "stderr",
     "output_type": "stream",
     "text": [
      "No such comm: 7049e38645ee490f8ec67e1554fb6c18\n",
      "No such comm: 7049e38645ee490f8ec67e1554fb6c18\n"
     ]
    }
   ],
   "source": [
    "# 2. Scales \n",
    "col_sc = bqplot.ColorScale(scheme='Blues')\n",
    "x_sc = bqplot.OrdinalScale() # ordered bin numbers\n",
    "y_sc = bqplot.OrdinalScale()\n",
    "\n",
    "# 3. Axis \n",
    "col_ax = bqplot.ColorAxis(scale=col_sc, orientation='vertical', side='right')\n",
    "x_ax = bqplot.Axis(scale=x_sc, label='Column Bin')\n",
    "y_ax = bqplot.Axis(scale=y_sc, label='Row Bin', orientation='vertical')\n",
    "\n",
    "# 4. Mark\n",
    "heat_map = bqplot.GridHeatMap(color=data, scales = {'color':col_sc})\n",
    "\n",
    "# 5. interactivity (skip)\n",
    "\n",
    "# 6. finally, a figure\n",
    "fig = bqplot.Figure(marks=[heat_map], axes=[col_ax, x_ax, y_ax])\n",
    "fig"
   ]
  },
  {
   "cell_type": "code",
   "execution_count": 4,
   "id": "eaf90972",
   "metadata": {},
   "outputs": [
    {
     "data": {
      "application/vnd.jupyter.widget-view+json": {
       "model_id": "38db080493b24dfe9db1844d51c604f4",
       "version_major": 2,
       "version_minor": 0
      },
      "text/plain": [
       "Figure(axes=[ColorAxis(orientation='vertical', scale=ColorScale(scheme='Blues'), side='right'), Axis(label='Co…"
      ]
     },
     "metadata": {},
     "output_type": "display_data"
    }
   ],
   "source": [
    "# 2. Scales \n",
    "col_sc = bqplot.ColorScale(scheme='Blues')\n",
    "x_sc = bqplot.OrdinalScale() # ordered bin numbers\n",
    "y_sc = bqplot.OrdinalScale()\n",
    "\n",
    "# 3. Axis \n",
    "col_ax = bqplot.ColorAxis(scale=col_sc, orientation='vertical', side='right')\n",
    "x_ax = bqplot.Axis(scale=x_sc, label='Column Bin')\n",
    "y_ax = bqplot.Axis(scale=y_sc, label='Row Bin', orientation='vertical')\n",
    "\n",
    "# 4. Mark\n",
    "heat_map = bqplot.GridHeatMap(color=data, scales = {'color':col_sc,\n",
    "                                                   'row':y_sc,\n",
    "                                                   'column':x_sc},\n",
    "                             interactions = {'click':'select'},\n",
    "                             anchor_style={'fill':'red'})\n",
    "\n",
    "# 5. interactivity (skip)\n",
    "\n",
    "# 6. finally, a figure\n",
    "fig = bqplot.Figure(marks=[heat_map], axes=[col_ax, x_ax, y_ax])\n",
    "fig"
   ]
  },
  {
   "cell_type": "code",
   "execution_count": 5,
   "id": "8268215b",
   "metadata": {},
   "outputs": [
    {
     "data": {
      "text/plain": [
       "array([[3, 3]])"
      ]
     },
     "execution_count": 5,
     "metadata": {},
     "output_type": "execute_result"
    }
   ],
   "source": [
    "heat_map.selected"
   ]
  },
  {
   "cell_type": "code",
   "execution_count": 7,
   "id": "fd71c639",
   "metadata": {},
   "outputs": [],
   "source": [
    "import ipywidgets"
   ]
  },
  {
   "cell_type": "code",
   "execution_count": 8,
   "id": "b63c3dde",
   "metadata": {},
   "outputs": [],
   "source": [
    "myLabel = ipywidgets.Label()"
   ]
  },
  {
   "cell_type": "code",
   "execution_count": 9,
   "id": "d330bea5",
   "metadata": {},
   "outputs": [
    {
     "data": {
      "application/vnd.jupyter.widget-view+json": {
       "model_id": "0c0f4baf11da48c29b23abdbd270f9b5",
       "version_major": 2,
       "version_minor": 0
      },
      "text/plain": [
       "Label(value='')"
      ]
     },
     "metadata": {},
     "output_type": "display_data"
    }
   ],
   "source": [
    "myLabel"
   ]
  },
  {
   "cell_type": "code",
   "execution_count": 10,
   "id": "0421d1fb",
   "metadata": {},
   "outputs": [],
   "source": [
    "myLabel.value = 'Data value = '"
   ]
  },
  {
   "cell_type": "code",
   "execution_count": 11,
   "id": "eed1db43",
   "metadata": {},
   "outputs": [
    {
     "data": {
      "application/vnd.jupyter.widget-view+json": {
       "model_id": "d6165e0fbc384db2bbfa8b6235708391",
       "version_major": 2,
       "version_minor": 0
      },
      "text/plain": [
       "Figure(axes=[ColorAxis(orientation='vertical', scale=ColorScale(scheme='Blues'), side='right'), Axis(label='Co…"
      ]
     },
     "metadata": {},
     "output_type": "display_data"
    },
    {
     "name": "stdout",
     "output_type": "stream",
     "text": [
      "{'name': 'selected', 'old': None, 'new': array([[0, 0]]), 'owner': GridHeatMap(anchor_style={'fill': 'red'}, color=array([[0.53468473, 0.58402246, 0.5651327 , 0.5514027 , 0.22311885,\n",
      "        0.13820927, 0.73654254, 0.38911282, 0.42160082, 0.83348024],\n",
      "       [0.721861  , 0.0036693 , 0.12471514, 0.56887637, 0.4627813 ,\n",
      "        0.53012346, 0.47584434, 0.09921991, 0.9454382 , 0.94667641],\n",
      "       [0.38659402, 0.28687299, 0.33524561, 0.8017765 , 0.90320668,\n",
      "        0.95950303, 0.05798183, 0.33286445, 0.51746625, 0.25081624],\n",
      "       [0.39391042, 0.10180096, 0.00845126, 0.43906519, 0.52637264,\n",
      "        0.76662125, 0.13649299, 0.09557948, 0.004432  , 0.42144636],\n",
      "       [0.37613444, 0.54121825, 0.84828261, 0.43389516, 0.23772923,\n",
      "        0.70993606, 0.01920117, 0.91925003, 0.02290521, 0.14332296],\n",
      "       [0.09521091, 0.26294591, 0.27664038, 0.1239107 , 0.45969907,\n",
      "        0.26569041, 0.06243017, 0.40111869, 0.75768595, 0.27955514],\n",
      "       [0.65748675, 0.60025598, 0.94562134, 0.15217116, 0.75206863,\n",
      "        0.15281635, 0.48206699, 0.80339329, 0.48223461, 0.98493706],\n",
      "       [0.01151034, 0.71742504, 0.40212267, 0.06777454, 0.85763398,\n",
      "        0.18128145, 0.45675542, 0.70197797, 0.17705936, 0.4970963 ],\n",
      "       [0.13390679, 0.48541396, 0.09882219, 0.76776449, 0.05498422,\n",
      "        0.99964221, 0.37105754, 0.74293887, 0.26066668, 0.50886725],\n",
      "       [0.10059191, 0.66476777, 0.04758338, 0.54306464, 0.88527027,\n",
      "        0.34263   , 0.23325987, 0.71406472, 0.08718169, 0.89057236]]), interactions={'click': 'select'}, scales={'color': ColorScale(scheme='Blues'), 'row': OrdinalScale(), 'column': OrdinalScale()}, scales_metadata={'row': {'orientation': 'vertical', 'dimension': 'y'}, 'column': {'orientation': 'horizontal', 'dimension': 'x'}, 'color': {'dimension': 'color'}}, selected=array([[0, 0]]), tooltip_style={'opacity': 0.9}), 'type': 'change'}\n"
     ]
    }
   ],
   "source": [
    "# 2. Scales \n",
    "col_sc = bqplot.ColorScale(scheme='Blues')\n",
    "x_sc = bqplot.OrdinalScale() # ordered bin numbers\n",
    "y_sc = bqplot.OrdinalScale()\n",
    "\n",
    "# 3. Axis \n",
    "col_ax = bqplot.ColorAxis(scale=col_sc, orientation='vertical', side='right')\n",
    "x_ax = bqplot.Axis(scale=x_sc, label='Column Bin')\n",
    "y_ax = bqplot.Axis(scale=y_sc, label='Row Bin', orientation='vertical')\n",
    "\n",
    "# 4. Mark\n",
    "heat_map = bqplot.GridHeatMap(color=data, scales = {'color':col_sc,\n",
    "                                                   'row':y_sc,\n",
    "                                                   'column':x_sc},\n",
    "                             interactions = {'click':'select'},\n",
    "                             anchor_style={'fill':'red'})\n",
    "\n",
    "# 5. interactivity \n",
    "def on_selected(change):\n",
    "    print(change)\n",
    "heat_map.observe(on_selected, 'selected')\n",
    "\n",
    "# 6. finally, a figure\n",
    "fig = bqplot.Figure(marks=[heat_map], axes=[col_ax, x_ax, y_ax])\n",
    "fig"
   ]
  },
  {
   "cell_type": "code",
   "execution_count": 12,
   "id": "56a7bbcf",
   "metadata": {},
   "outputs": [
    {
     "data": {
      "application/vnd.jupyter.widget-view+json": {
       "model_id": "7227d4992b324cd581bfefb6752fb6b5",
       "version_major": 2,
       "version_minor": 0
      },
      "text/plain": [
       "Figure(axes=[ColorAxis(orientation='vertical', scale=ColorScale(scheme='Blues'), side='right'), Axis(label='Co…"
      ]
     },
     "metadata": {},
     "output_type": "display_data"
    },
    {
     "name": "stdout",
     "output_type": "stream",
     "text": [
      "[[4 2]]\n",
      "[[4 3]]\n",
      "[[4 4]]\n",
      "[[3 4]]\n",
      "[[4 4]\n",
      " [3 4]]\n",
      "[[4 5]\n",
      " [3 4]\n",
      " [3 5]\n",
      " [4 4]]\n"
     ]
    }
   ],
   "source": [
    "# 2. Scales \n",
    "col_sc = bqplot.ColorScale(scheme='Blues')\n",
    "x_sc = bqplot.OrdinalScale() # ordered bin numbers\n",
    "y_sc = bqplot.OrdinalScale()\n",
    "\n",
    "# 3. Axis \n",
    "col_ax = bqplot.ColorAxis(scale=col_sc, orientation='vertical', side='right')\n",
    "x_ax = bqplot.Axis(scale=x_sc, label='Column Bin')\n",
    "y_ax = bqplot.Axis(scale=y_sc, label='Row Bin', orientation='vertical')\n",
    "\n",
    "# 4. Mark\n",
    "heat_map = bqplot.GridHeatMap(color=data, scales = {'color':col_sc,\n",
    "                                                   'row':y_sc,\n",
    "                                                   'column':x_sc},\n",
    "                             interactions = {'click':'select'},\n",
    "                             anchor_style={'fill':'red'})\n",
    "\n",
    "# 5. interactivity \n",
    "def on_selected(change):\n",
    "    #print(change)\n",
    "    print(change['owner'].selected)\n",
    "heat_map.observe(on_selected, 'selected')\n",
    "\n",
    "# 6. finally, a figure\n",
    "fig = bqplot.Figure(marks=[heat_map], axes=[col_ax, x_ax, y_ax])\n",
    "fig"
   ]
  },
  {
   "cell_type": "code",
   "execution_count": 15,
   "id": "767652a6",
   "metadata": {},
   "outputs": [
    {
     "data": {
      "application/vnd.jupyter.widget-view+json": {
       "model_id": "c80d9bcaeda6464aa127e61298d7afa6",
       "version_major": 2,
       "version_minor": 0
      },
      "text/plain": [
       "Figure(axes=[ColorAxis(orientation='vertical', scale=ColorScale(scheme='Blues'), side='right'), Axis(label='Co…"
      ]
     },
     "metadata": {},
     "output_type": "display_data"
    },
    {
     "name": "stdout",
     "output_type": "stream",
     "text": [
      "[3 2]\n",
      "[3 3]\n",
      "[1 3]\n",
      "[1 2]\n",
      "[2 2]\n"
     ]
    }
   ],
   "source": [
    "# 2. Scales \n",
    "col_sc = bqplot.ColorScale(scheme='Blues')\n",
    "x_sc = bqplot.OrdinalScale() # ordered bin numbers\n",
    "y_sc = bqplot.OrdinalScale()\n",
    "\n",
    "# 3. Axis \n",
    "col_ax = bqplot.ColorAxis(scale=col_sc, orientation='vertical', side='right')\n",
    "x_ax = bqplot.Axis(scale=x_sc, label='Column Bin')\n",
    "y_ax = bqplot.Axis(scale=y_sc, label='Row Bin', orientation='vertical')\n",
    "\n",
    "# 4. Mark\n",
    "heat_map = bqplot.GridHeatMap(color=data, scales = {'color':col_sc,\n",
    "                                                   'row':y_sc,\n",
    "                                                   'column':x_sc},\n",
    "                             interactions = {'click':'select'},\n",
    "                             anchor_style={'fill':'red'})\n",
    "\n",
    "# 5. interactivity \n",
    "def on_selected(change):\n",
    "    #print(change)\n",
    "    if len(change['owner'].selected) == 1:\n",
    "        print(change['owner'].selected[0])\n",
    "heat_map.observe(on_selected, 'selected')\n",
    "\n",
    "# 6. finally, a figure\n",
    "fig = bqplot.Figure(marks=[heat_map], axes=[col_ax, x_ax, y_ax])\n",
    "fig"
   ]
  },
  {
   "cell_type": "code",
   "execution_count": 17,
   "id": "4ff65a1f",
   "metadata": {},
   "outputs": [
    {
     "data": {
      "text/plain": [
       "'Data value = '"
      ]
     },
     "execution_count": 17,
     "metadata": {},
     "output_type": "execute_result"
    }
   ],
   "source": [
    "myLabel.value"
   ]
  },
  {
   "cell_type": "code",
   "execution_count": 18,
   "id": "abd9463d",
   "metadata": {},
   "outputs": [
    {
     "data": {
      "application/vnd.jupyter.widget-view+json": {
       "model_id": "ce03bd21129c4ea38a3ce5dc12070ec3",
       "version_major": 2,
       "version_minor": 0
      },
      "text/plain": [
       "Figure(axes=[ColorAxis(orientation='vertical', scale=ColorScale(scheme='Blues'), side='right'), Axis(label='Co…"
      ]
     },
     "metadata": {},
     "output_type": "display_data"
    }
   ],
   "source": [
    "# 2. Scales \n",
    "col_sc = bqplot.ColorScale(scheme='Blues')\n",
    "x_sc = bqplot.OrdinalScale() # ordered bin numbers\n",
    "y_sc = bqplot.OrdinalScale()\n",
    "\n",
    "# 3. Axis \n",
    "col_ax = bqplot.ColorAxis(scale=col_sc, orientation='vertical', side='right')\n",
    "x_ax = bqplot.Axis(scale=x_sc, label='Column Bin')\n",
    "y_ax = bqplot.Axis(scale=y_sc, label='Row Bin', orientation='vertical')\n",
    "\n",
    "# 4. Mark\n",
    "heat_map = bqplot.GridHeatMap(color=data, scales = {'color':col_sc,\n",
    "                                                   'row':y_sc,\n",
    "                                                   'column':x_sc},\n",
    "                             interactions = {'click':'select'},\n",
    "                             anchor_style={'fill':'red'})\n",
    "\n",
    "# 5. interactivity \n",
    "def on_selected(change):\n",
    "    #print(change)\n",
    "    if len(change['owner'].selected) == 1:\n",
    "        #print(change['owner'].selected[0])\n",
    "        i,j = change['owner'].selected[0]\n",
    "        myLabel.value = 'Data value = ' + str(data[i,j])\n",
    "heat_map.observe(on_selected, 'selected')\n",
    "\n",
    "# 6. finally, a figure\n",
    "fig = bqplot.Figure(marks=[heat_map], axes=[col_ax, x_ax, y_ax])\n",
    "fig"
   ]
  },
  {
   "cell_type": "code",
   "execution_count": 19,
   "id": "edfefbb7",
   "metadata": {},
   "outputs": [
    {
     "data": {
      "application/vnd.jupyter.widget-view+json": {
       "model_id": "0c0f4baf11da48c29b23abdbd270f9b5",
       "version_major": 2,
       "version_minor": 0
      },
      "text/plain": [
       "Label(value='Data value = 0.9966194164908724')"
      ]
     },
     "metadata": {},
     "output_type": "display_data"
    }
   ],
   "source": [
    "myLabel"
   ]
  },
  {
   "cell_type": "code",
   "execution_count": 20,
   "id": "8ce55585",
   "metadata": {},
   "outputs": [],
   "source": [
    "# 2. Scales \n",
    "col_sc = bqplot.ColorScale(scheme='Blues')\n",
    "x_sc = bqplot.OrdinalScale() # ordered bin numbers\n",
    "y_sc = bqplot.OrdinalScale()\n",
    "\n",
    "# 3. Axis \n",
    "col_ax = bqplot.ColorAxis(scale=col_sc, orientation='vertical', side='right')\n",
    "x_ax = bqplot.Axis(scale=x_sc, label='Column Bin')\n",
    "y_ax = bqplot.Axis(scale=y_sc, label='Row Bin', orientation='vertical')\n",
    "\n",
    "# 4. Mark\n",
    "heat_map = bqplot.GridHeatMap(color=data, scales = {'color':col_sc,\n",
    "                                                   'row':y_sc,\n",
    "                                                   'column':x_sc},\n",
    "                             interactions = {'click':'select'},\n",
    "                             anchor_style={'fill':'red'})\n",
    "\n",
    "# 5. interactivity \n",
    "def on_selected(change):\n",
    "    #print(change)\n",
    "    if len(change['owner'].selected) == 1:\n",
    "        i,j = change['owner'].selected[0]\n",
    "        myLabel.value = 'Data value = ' + str(data[i,j])\n",
    "heat_map.observe(on_selected, 'selected')\n",
    "\n",
    "# 6. finally, a figure\n",
    "fig = bqplot.Figure(marks=[heat_map], axes=[col_ax, x_ax, y_ax])\n",
    "#fig\n",
    "\n",
    "dashboard = ipywidgets.VBox([myLabel, fig])"
   ]
  },
  {
   "cell_type": "code",
   "execution_count": 21,
   "id": "4985557e",
   "metadata": {},
   "outputs": [
    {
     "data": {
      "application/vnd.jupyter.widget-view+json": {
       "model_id": "ebde6af23089447681a916db11e910c5",
       "version_major": 2,
       "version_minor": 0
      },
      "text/plain": [
       "VBox(children=(Label(value='Data value = 0.24490088713848934'), Figure(axes=[ColorAxis(orientation='vertical',…"
      ]
     },
     "metadata": {},
     "output_type": "display_data"
    }
   ],
   "source": [
    "dashboard"
   ]
  },
  {
   "cell_type": "markdown",
   "id": "a204e35b",
   "metadata": {},
   "source": [
    "## 3d Random data"
   ]
  },
  {
   "cell_type": "code",
   "execution_count": 22,
   "id": "569c0dcd",
   "metadata": {},
   "outputs": [],
   "source": [
    "data3d = np.random.random((10,10,20))"
   ]
  },
  {
   "cell_type": "code",
   "execution_count": 23,
   "id": "3fa6a3a3",
   "metadata": {},
   "outputs": [
    {
     "data": {
      "text/plain": [
       "(10, 10, 20)"
      ]
     },
     "execution_count": 23,
     "metadata": {},
     "output_type": "execute_result"
    }
   ],
   "source": [
    "data3d.shape"
   ]
  },
  {
   "cell_type": "code",
   "execution_count": 25,
   "id": "6e2d9a7d",
   "metadata": {},
   "outputs": [
    {
     "data": {
      "text/plain": [
       "array([0.761059  , 0.8955471 , 0.23863323, 0.91923834, 0.19040461,\n",
       "       0.68734487, 0.66115963, 0.69535971, 0.92636613, 0.38461568,\n",
       "       0.38892705, 0.77158782, 0.33287259, 0.43470371, 0.81382018,\n",
       "       0.83800225, 0.33954044, 0.45004561, 0.180503  , 0.80008809])"
      ]
     },
     "execution_count": 25,
     "metadata": {},
     "output_type": "execute_result"
    }
   ],
   "source": [
    "data3d[0,0,:]"
   ]
  },
  {
   "cell_type": "code",
   "execution_count": 29,
   "id": "67c1ee4e",
   "metadata": {},
   "outputs": [
    {
     "data": {
      "text/plain": [
       "(10, 10)"
      ]
     },
     "execution_count": 29,
     "metadata": {},
     "output_type": "execute_result"
    }
   ],
   "source": [
    "np.sum(data3d,axis=2).shape"
   ]
  },
  {
   "cell_type": "code",
   "execution_count": 32,
   "id": "aa524915",
   "metadata": {},
   "outputs": [
    {
     "data": {
      "application/vnd.jupyter.widget-view+json": {
       "model_id": "07641ed248224291a4014b6dd58355c0",
       "version_major": 2,
       "version_minor": 0
      },
      "text/plain": [
       "VBox(children=(Label(value='Data value = 0.3835415012502905'), Figure(axes=[ColorAxis(orientation='vertical', …"
      ]
     },
     "metadata": {},
     "output_type": "display_data"
    }
   ],
   "source": [
    "# 2. Scales \n",
    "col_sc = bqplot.ColorScale(scheme='Blues')\n",
    "x_sc = bqplot.OrdinalScale() # ordered bin numbers\n",
    "y_sc = bqplot.OrdinalScale()\n",
    "\n",
    "# 3. Axis \n",
    "col_ax = bqplot.ColorAxis(scale=col_sc, orientation='vertical', side='right')\n",
    "x_ax = bqplot.Axis(scale=x_sc, label='Column Bin')\n",
    "y_ax = bqplot.Axis(scale=y_sc, label='Row Bin', orientation='vertical')\n",
    "\n",
    "# 4. Mark\n",
    "heat_map = bqplot.GridHeatMap(color=np.sum(data3d,axis=2), \n",
    "                              scales = {'color':col_sc,\n",
    "                                                   'row':y_sc,\n",
    "                                                   'column':x_sc},\n",
    "                             interactions = {'click':'select'},\n",
    "                             anchor_style={'fill':'red'})\n",
    "\n",
    "# 5. interactivity \n",
    "def on_selected(change):\n",
    "    #print(change)\n",
    "    if len(change['owner'].selected) == 1:\n",
    "        i,j = change['owner'].selected[0]\n",
    "        myLabel.value = 'Data value = ' + str(np.sum(data3d[i,j,:]))\n",
    "heat_map.observe(on_selected, 'selected')\n",
    "\n",
    "# 6. finally, a figure\n",
    "fig = bqplot.Figure(marks=[heat_map], axes=[col_ax, x_ax, y_ax])\n",
    "#fig\n",
    "\n",
    "dashboard = ipywidgets.VBox([myLabel, fig])\n",
    "dashboard"
   ]
  },
  {
   "cell_type": "code",
   "execution_count": 33,
   "id": "040fe862",
   "metadata": {},
   "outputs": [],
   "source": [
    "i,j = 3,5"
   ]
  },
  {
   "cell_type": "code",
   "execution_count": 34,
   "id": "2838a048",
   "metadata": {},
   "outputs": [
    {
     "data": {
      "text/plain": [
       "array([0.48013822, 0.92614192, 0.28203368, 0.50912949, 0.5709601 ,\n",
       "       0.42275298, 0.23365144, 0.52809607, 0.41532248, 0.30046323,\n",
       "       0.64359927, 0.87166884, 0.86887681, 0.1522757 , 0.70521569,\n",
       "       0.70316364, 0.44025269, 0.47707822, 0.84079454, 0.46179679])"
      ]
     },
     "execution_count": 34,
     "metadata": {},
     "output_type": "execute_result"
    }
   ],
   "source": [
    "data3d[i,j] # 1. Data for histogram plot"
   ]
  },
  {
   "cell_type": "code",
   "execution_count": 35,
   "id": "76145710",
   "metadata": {},
   "outputs": [],
   "source": [
    "# 2. Scales\n",
    "x_sch = bqplot.LinearScale()\n",
    "y_sch = bqplot.LinearScale()\n",
    "\n",
    "# 3. Axis\n",
    "x_axh = bqplot.Axis(scale=x_sch, label='Value of 3rd axis')\n",
    "y_axh = bqplot.Axis(scale=y_sch, label='Frequency', orientation='vertical')"
   ]
  },
  {
   "cell_type": "code",
   "execution_count": 36,
   "id": "a654ca1c",
   "metadata": {},
   "outputs": [],
   "source": [
    "bqplot.Hist?"
   ]
  },
  {
   "cell_type": "code",
   "execution_count": null,
   "id": "3d02bb2b",
   "metadata": {},
   "outputs": [],
   "source": [
    "#4. Marks -- Histogram\n",
    "hist = bqplot.Hist(sample=data3d[i,j,:], \n",
    "                   scales={'sample':x_sch, 'count':y_sch},\n",
    "                  bins=5)"
   ]
  }
 ],
 "metadata": {
  "kernelspec": {
   "display_name": "Python 3 (ipykernel)",
   "language": "python",
   "name": "python3"
  },
  "language_info": {
   "codemirror_mode": {
    "name": "ipython",
    "version": 3
   },
   "file_extension": ".py",
   "mimetype": "text/x-python",
   "name": "python",
   "nbconvert_exporter": "python",
   "pygments_lexer": "ipython3",
   "version": "3.8.17"
  }
 },
 "nbformat": 4,
 "nbformat_minor": 5
}
