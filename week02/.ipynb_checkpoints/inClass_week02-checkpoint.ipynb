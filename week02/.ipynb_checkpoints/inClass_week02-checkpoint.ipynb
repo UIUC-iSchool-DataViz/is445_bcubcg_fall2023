{
 "cells": [
  {
   "cell_type": "markdown",
   "id": "respective-store",
   "metadata": {},
   "source": [
    "# In Class Notebook, Week 02"
   ]
  },
  {
   "cell_type": "markdown",
   "id": "patent-merit",
   "metadata": {},
   "source": [
    "To access this in near-real time try: https://github.com/UIUC-iSchool-DataViz/is445_bcubcg_fall2023/blob/master/week02/inClass_week02.ipynb\n",
    "\n",
    "Or paste this URL into the nbviewer interface for a plain-text rendering:\n",
    "\n",
    "https://kokes.github.io/nbviewer.js/viewer.html"
   ]
  },
  {
   "cell_type": "code",
   "execution_count": 2,
   "id": "8e14e101",
   "metadata": {},
   "outputs": [
    {
     "name": "stdout",
     "output_type": "stream",
     "text": [
      "hi\n"
     ]
    }
   ],
   "source": [
    "print('hi')"
   ]
  },
  {
   "cell_type": "code",
   "execution_count": 4,
   "id": "74900566",
   "metadata": {},
   "outputs": [
    {
     "data": {
      "text/plain": [
       "5"
      ]
     },
     "execution_count": 4,
     "metadata": {},
     "output_type": "execute_result"
    }
   ],
   "source": [
    "2+3 # to run this cell, I can also do \"SHIFT + RETURN\""
   ]
  },
  {
   "cell_type": "markdown",
   "id": "9c1b41e3",
   "metadata": {},
   "source": [
    "I can write stuff like normal.\n",
    "\n",
    "# I can make a big header\n",
    "## I can make a slightly smaller header\n",
    "### Even smaller\n",
    "#### I think this is the dingiest one we can get\n",
    "\n",
    "I can also make an ordered list:\n",
    "1. thing number 1\n",
    "1. thing number 2\n",
    "1. thing number 3\n",
    "\n",
    "I can also make unordered lists:\n",
    "* this is an item\n",
    "* this is another item\n",
    "* a final item\n",
    "  * this is a small thing I want to say about the last item\n",
    "  \n",
    "### Things we won't really use too much but are still super cool\n",
    "- [X] task 1\n",
    "- [ ] task 2\n",
    "\n",
    "$\\frac{3}{5}$"
   ]
  },
  {
   "cell_type": "code",
   "execution_count": 5,
   "id": "1249a0b0",
   "metadata": {},
   "outputs": [],
   "source": [
    "import PIL.Image as Image\n",
    "#from PIL import Image"
   ]
  },
  {
   "cell_type": "code",
   "execution_count": null,
   "id": "b2ff6439",
   "metadata": {},
   "outputs": [],
   "source": []
  }
 ],
 "metadata": {
  "kernelspec": {
   "display_name": "Python 3 (ipykernel)",
   "language": "python",
   "name": "python3"
  },
  "language_info": {
   "codemirror_mode": {
    "name": "ipython",
    "version": 3
   },
   "file_extension": ".py",
   "mimetype": "text/x-python",
   "name": "python",
   "nbconvert_exporter": "python",
   "pygments_lexer": "ipython3",
   "version": "3.7.12"
  }
 },
 "nbformat": 4,
 "nbformat_minor": 5
}
